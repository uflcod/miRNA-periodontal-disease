{
 "cells": [
  {
   "cell_type": "markdown",
   "id": "b07f9a8a-8b5d-4ef2-ab31-520e47ccd0d2",
   "metadata": {},
   "source": [
    "# Random Forest miRNA\n",
    "Runs RandomForestClassifier on miRNA data.  \n",
    "\n",
    "Three datasets are analyzed using the RandomForest classifier:\n",
    "* Sham and infeceted mice from all weeks; i.e., 8 week and 16 week datasets are merged.\n",
    "* Sham and infected mice at 8 weeks.\n",
    "* Sham and infected mice at 16 weeks.\n",
    "\n",
    "In each dataset, there is a flag (named ‘infected’) that marks whether the mice came from the infected group or the sham group.  \n",
    "RandomForestClassifier's variable importance and SHAP values are then used to determine which miRNA variable was most important in each cohort dataset."
   ]
  },
  {
   "cell_type": "code",
   "execution_count": 1,
   "id": "f6ad5752-ea48-4c57-9d3a-620f633598a9",
   "metadata": {
    "ExecuteTime": {
     "end_time": "2023-11-05T04:55:24.447638Z",
     "start_time": "2023-11-05T04:55:24.138858Z"
    },
    "tags": []
   },
   "outputs": [],
   "source": [
    "%load_ext autoreload\n",
    "%autoreload 2"
   ]
  },
  {
   "cell_type": "code",
   "execution_count": 2,
   "id": "86299249-0dbe-46f7-b025-f5eec0a6ee33",
   "metadata": {
    "ExecuteTime": {
     "end_time": "2023-11-05T04:55:24.757092Z",
     "start_time": "2023-11-05T04:55:24.713559Z"
    },
    "tags": []
   },
   "outputs": [],
   "source": [
    "# trying to supress sklearn warning\n",
    "import os\n",
    "os.environ[\"PYTHONWARNINGS\"] = \"ignore::UserWarning\"\n",
    "import warnings\n",
    "warnings.filterwarnings('ignore')\n",
    "warnings.simplefilter(action='ignore', category=FutureWarning)"
   ]
  },
  {
   "cell_type": "code",
   "execution_count": 3,
   "id": "5df3cf37-0926-4890-a9ae-849ea8c49f23",
   "metadata": {
    "tags": []
   },
   "outputs": [
    {
     "name": "stdout",
     "output_type": "stream",
     "text": [
      "Defaulting to user installation because normal site-packages is not writeable\n",
      "Requirement already satisfied: typing_extensions in /apps/jupyterhub/3.1.1/lib/python3.11/site-packages (4.12.2)\n",
      "Collecting typing_extensions\n",
      "  Downloading typing_extensions-4.15.0-py3-none-any.whl (44 kB)\n",
      "\u001b[2K     \u001b[90m━━━━━━━━━━━━━━━━━━━━━━━━━━━━━━━━━━━━━━━\u001b[0m \u001b[32m44.6/44.6 kB\u001b[0m \u001b[31m942.0 kB/s\u001b[0m eta \u001b[36m0:00:00\u001b[0m \u001b[36m0:00:01\u001b[0m\n",
      "\u001b[?25hInstalling collected packages: typing_extensions\n",
      "Successfully installed typing_extensions-4.15.0\n",
      "Note: you may need to restart the kernel to use updated packages.\n"
     ]
    }
   ],
   "source": [
    "%pip install --upgrade typing_extensions\n"
   ]
  },
  {
   "cell_type": "code",
   "execution_count": 4,
   "id": "443dc93a-e54c-43df-882e-b0e40f060ae8",
   "metadata": {
    "ExecuteTime": {
     "end_time": "2023-11-05T04:55:26.870546Z",
     "start_time": "2023-11-05T04:55:26.838950Z"
    },
    "tags": []
   },
   "outputs": [],
   "source": [
    "import pandas as pd\n",
    "import numpy as np\n",
    "import matplotlib.pyplot as plt\n",
    "import seaborn as sns\n",
    "import xgboost as xgb\n",
    "from sklearn.ensemble import RandomForestClassifier\n",
    "\n",
    "import sklearn\n",
    "from sklearn.preprocessing import StandardScaler\n",
    "from sklearn.model_selection import RandomizedSearchCV, GridSearchCV, RepeatedKFold, cross_val_score, train_test_split\n",
    "from sklearn.metrics import accuracy_score, f1_score, recall_score, classification_report, roc_auc_score, roc_curve, mean_absolute_error\n",
    "from IPython.display import display\n",
    "import random\n",
    "import shap\n",
    "\n",
    "from util import make_mirna_nanostring_df, make_study_df, param_search_cv, param_search, \\\n",
    "    plot_shap_feature_importance, plot_xgb_feature_importance, combine_shap_heatmaps, \\\n",
    "    plot_shap_summary, plot_shap_heatmap, plot_shap_dependence, plot_shap_importance_with_summary, top_shap_values"
   ]
  },
  {
   "cell_type": "code",
   "execution_count": 5,
   "id": "9e652391-7fd1-49d8-aa13-2527859cb9e0",
   "metadata": {
    "ExecuteTime": {
     "end_time": "2023-11-05T04:55:28.431176Z",
     "start_time": "2023-11-05T04:55:28.209121Z"
    },
    "tags": []
   },
   "outputs": [
    {
     "name": "stdout",
     "output_type": "stream",
     "text": [
      "Python 3.11.3\n"
     ]
    }
   ],
   "source": [
    "! python --version"
   ]
  },
  {
   "cell_type": "code",
   "execution_count": 6,
   "id": "1459ffd5-2e30-443b-b983-5b98064d2c36",
   "metadata": {
    "ExecuteTime": {
     "end_time": "2023-11-05T04:55:29.535925Z",
     "start_time": "2023-11-05T04:55:29.474918Z"
    },
    "tags": []
   },
   "outputs": [
    {
     "name": "stdout",
     "output_type": "stream",
     "text": [
      "sklearn version 1.7.1\n",
      "shap version 0.48.0\n"
     ]
    }
   ],
   "source": [
    "print('sklearn version', sklearn.__version__)\n",
    "print('shap version', shap.__version__)"
   ]
  },
  {
   "cell_type": "markdown",
   "id": "e5c11900-5366-4518-a9a3-6678d7c5adb0",
   "metadata": {},
   "source": [
    "---"
   ]
  },
  {
   "cell_type": "markdown",
   "id": "003edfa5-0509-4fe2-ba7a-49524f3d5c64",
   "metadata": {},
   "source": [
    "## load miRNA data"
   ]
  },
  {
   "cell_type": "code",
   "execution_count": 7,
   "id": "25e7cbcb-f082-4fd1-bcbe-6e09200da46d",
   "metadata": {
    "ExecuteTime": {
     "end_time": "2023-11-06T02:45:37.145569Z",
     "start_time": "2023-11-06T02:45:36.876433Z"
    },
    "tags": []
   },
   "outputs": [
    {
     "data": {
      "text/plain": [
       "[('../data/Porphyromonas_gingivalis/8 weeks P. gingivalis NanoString Data.csv',\n",
       "  'pg_8_weeks'),\n",
       " ('../data/Porphyromonas_gingivalis/8 weeks SHAM NanoString Data.csv',\n",
       "  'sham_8_weeks'),\n",
       " ('../data/Porphyromonas_gingivalis/16 weeks P. gingivalis NanoString Data.csv',\n",
       "  'pg_16_weeks'),\n",
       " ('../data/Porphyromonas_gingivalis/16 weeks SHAM NanoString Data.csv',\n",
       "  'sham_16_weeks')]"
      ]
     },
     "execution_count": 7,
     "metadata": {},
     "output_type": "execute_result"
    }
   ],
   "source": [
    "file_names = [\n",
    "    '../data/Porphyromonas_gingivalis/8 weeks P. gingivalis NanoString Data.csv', \n",
    "    '../data/Porphyromonas_gingivalis/8 weeks SHAM NanoString Data.csv', \n",
    "    '../data/Porphyromonas_gingivalis/16 weeks P. gingivalis NanoString Data.csv', \n",
    "    '../data/Porphyromonas_gingivalis/16 weeks SHAM NanoString Data.csv'\n",
    "]\n",
    "cohort_names = ['pg_8_weeks', 'sham_8_weeks', 'pg_16_weeks', 'sham_16_weeks']\n",
    "list(zip(file_names, cohort_names))"
   ]
  },
  {
   "cell_type": "code",
   "execution_count": 8,
   "id": "3bb12a4a-11b3-4800-a51e-dca7356e7461",
   "metadata": {
    "tags": []
   },
   "outputs": [
    {
     "data": {
      "text/plain": [
       "(40, 604)"
      ]
     },
     "execution_count": 8,
     "metadata": {},
     "output_type": "execute_result"
    }
   ],
   "source": [
    "miRNA_df = make_mirna_nanostring_df(file_names, cohort_names)\n",
    "miRNA_df.shape"
   ]
  },
  {
   "cell_type": "markdown",
   "id": "bd358419-2f7b-4b0c-928a-4dd4d05b8135",
   "metadata": {},
   "source": [
    "## create dataframes and X, y datasets"
   ]
  },
  {
   "cell_type": "code",
   "execution_count": 9,
   "id": "ade83856-151f-4b09-a416-68c6e8fac330",
   "metadata": {
    "ExecuteTime": {
     "end_time": "2023-11-05T04:55:34.975574Z",
     "start_time": "2023-11-05T04:55:34.900339Z"
    },
    "tags": []
   },
   "outputs": [],
   "source": [
    "df_8_weeks = make_study_df(miRNA_df, cohort_str='8_weeks', infected_str='pg_')\n",
    "df_16_weeks = make_study_df(miRNA_df, cohort_str='16_weeks', infected_str='pg_')\n",
    "df_all_weeks = make_study_df(miRNA_df, infected_str='pg_')"
   ]
  },
  {
   "cell_type": "code",
   "execution_count": 10,
   "id": "0d67c33f-4ba1-4418-906e-169ea285fd68",
   "metadata": {
    "ExecuteTime": {
     "end_time": "2023-11-05T04:55:35.629431Z",
     "start_time": "2023-11-05T04:55:35.574080Z"
    },
    "tags": []
   },
   "outputs": [],
   "source": [
    "X_8_weeks, y_8_weeks = df_8_weeks.drop('infected', axis=1), df_8_weeks['infected']\n",
    "X_16_weeks, y_16_weeks = df_16_weeks.drop('infected', axis=1), df_16_weeks['infected']\n",
    "X_all_weeks, y_all_weeks = df_all_weeks.drop('infected', axis=1), df_all_weeks['infected']"
   ]
  },
  {
   "cell_type": "markdown",
   "id": "6070383a-43fe-4367-89b3-8771b4f5091a",
   "metadata": {},
   "source": [
    "---"
   ]
  },
  {
   "cell_type": "markdown",
   "id": "8ca35e60-b82e-4037-86cd-5366f933a8d1",
   "metadata": {},
   "source": [
    "## search for best params"
   ]
  },
  {
   "cell_type": "code",
   "execution_count": 11,
   "id": "58da6dc3-4154-4c55-9d11-b13e9f4087b1",
   "metadata": {
    "ExecuteTime": {
     "end_time": "2023-11-05T04:55:40.182106Z",
     "start_time": "2023-11-05T04:55:40.117711Z"
    },
    "tags": []
   },
   "outputs": [],
   "source": [
    "# see https://towardsdatascience.com/hyperparameter-tuning-the-random-forest-in-python-using-scikit-learn-28d2aa77dd74\n",
    "# n_estimators: Number of trees in random forest\n",
    "# max_features: Number of features to consider at every split\n",
    "# max_depth: Maximum number of levels in tree\n",
    "# min_samples_split: Minimum number of samples required to split a node\n",
    "# min_samples_leaf: Minimum number of samples required at each leaf node\n",
    "# bootstrap: Method of selecting samples for training each tree\n",
    "# oob_score: (bool) Whether to use out-of-bag samples to estimate the generalization score\n",
    "random_grid = {\n",
    "    'criterion' :['gini', 'entropy'],\n",
    "    'n_estimators': list(range(10, 301, 10)), # [10, 20, 30, ... 300]\n",
    "    'max_features': ['sqrt','log2', None],\n",
    "    'max_depth': list(range(10, 201, 10)) + [None],# [10, 20, 30, ... 200, None]\n",
    "    'min_samples_split': list(range(2, 11, 2)), # [2, 4, 6, ... 10]\n",
    "    'min_samples_leaf': [1, 2, 4],\n",
    "    'bootstrap': [True, False],\n",
    "    'oob_score': [True, False],\n",
    "    'random_state': list(range(0, 9, 10)) # [0, 3, 6, 9]\n",
    "}"
   ]
  },
  {
   "cell_type": "code",
   "execution_count": 12,
   "id": "c29d8f50-7487-42a0-a453-fa131b35a2a2",
   "metadata": {
    "ExecuteTime": {
     "end_time": "2023-11-05T04:55:43.931314Z",
     "start_time": "2023-11-05T04:55:43.875822Z"
    },
    "tags": []
   },
   "outputs": [
    {
     "name": "stdout",
     "output_type": "stream",
     "text": [
      "{'bootstrap': True,\n",
      " 'criterion': 'gini',\n",
      " 'max_depth': 70,\n",
      " 'max_features': 'log2',\n",
      " 'min_samples_leaf': 1,\n",
      " 'min_samples_split': 2,\n",
      " 'n_estimators': 300,\n",
      " 'oob_score': False,\n",
      " 'random_state': 0}\n"
     ]
    }
   ],
   "source": [
    "# used for testing single param search\n",
    "params_8_weeks = \\\n",
    "    param_search(random_grid, X_8_weeks, y_8_weeks, RandomForestClassifier, cv=5)"
   ]
  },
  {
   "cell_type": "markdown",
   "id": "8700369e-4e99-47df-b952-adfa76cf5294",
   "metadata": {},
   "source": [
    "### this code block takes a while to run, uncomment to run it"
   ]
  },
  {
   "cell_type": "code",
   "execution_count": 13,
   "id": "5f2d5edf-d0ff-493c-ac4a-e8943b719337",
   "metadata": {
    "ExecuteTime": {
     "end_time": "2023-11-05T06:49:50.046654Z",
     "start_time": "2023-11-05T06:40:21.138791Z"
    },
    "tags": []
   },
   "outputs": [
    {
     "name": "stdout",
     "output_type": "stream",
     "text": [
      "** 8 weeks params **\n",
      "{'cv': 5,\n",
      " 'params': {'bootstrap': True,\n",
      "            'criterion': 'gini',\n",
      "            'max_depth': 70,\n",
      "            'max_features': 'log2',\n",
      "            'min_samples_leaf': 1,\n",
      "            'min_samples_split': 2,\n",
      "            'n_estimators': 300,\n",
      "            'oob_score': False,\n",
      "            'random_state': 0},\n",
      " 'score': np.float64(0.8)}\n",
      "** 16 weeks params **\n",
      "{'cv': 6,\n",
      " 'params': {'bootstrap': False,\n",
      "            'criterion': 'gini',\n",
      "            'max_depth': 110,\n",
      "            'max_features': 'log2',\n",
      "            'min_samples_leaf': 2,\n",
      "            'min_samples_split': 4,\n",
      "            'n_estimators': 200,\n",
      "            'oob_score': False,\n",
      "            'random_state': 0},\n",
      " 'score': np.float64(0.7)}\n",
      "** All weeks params **\n",
      "{'cv': 9,\n",
      " 'params': {'bootstrap': True,\n",
      "            'criterion': 'gini',\n",
      "            'max_depth': 80,\n",
      "            'max_features': 'sqrt',\n",
      "            'min_samples_leaf': 2,\n",
      "            'min_samples_split': 10,\n",
      "            'n_estimators': 90,\n",
      "            'oob_score': False,\n",
      "            'random_state': 0},\n",
      " 'score': np.float64(0.725)}\n"
     ]
    }
   ],
   "source": [
    "cv_range = range(2, 11)\n",
    "clf = RandomForestClassifier\n",
    "# \n",
    "print('** 8 weeks params **')\n",
    "params_8_weeks_cv = \\\n",
    "    param_search_cv(\n",
    "        random_grid, X_8_weeks, y_8_weeks, clf, cvs=cv_range, print_best=True)\n",
    "# \n",
    "print('** 16 weeks params **')\n",
    "params_16_weeks_cv = \\\n",
    "    param_search_cv(\n",
    "        random_grid, X_16_weeks, y_16_weeks, clf, cvs=cv_range, print_best=True)\n",
    "# \n",
    "print('** All weeks params **')\n",
    "params_8_weeks_cv = \\\n",
    "    param_search_cv(\n",
    "        random_grid, X_all_weeks, y_all_weeks, clf, cvs=cv_range, print_best=True)"
   ]
  },
  {
   "cell_type": "raw",
   "id": "60186748-5192-4380-b75f-c9c64b001d49",
   "metadata": {},
   "source": [
    "# output from above code block\n",
    "** 8 weeks params **\n",
    "{'cv': 7,\n",
    " 'score': 0.85,\n",
    " 'params': {'bootstrap': False,\n",
    "            'criterion': 'gini',\n",
    "            'max_depth': 90,\n",
    "            'max_features': None,\n",
    "            'min_samples_leaf': 2,\n",
    "            'min_samples_split': 8,\n",
    "            'n_estimators': 290,\n",
    "            'oob_score': False,\n",
    "            'random_state': 0}\n",
    "}\n",
    "\n",
    "** 16 weeks params **\n",
    "{'cv': 3,\n",
    " 'score': 0.85,\n",
    " 'params': {'bootstrap': False,\n",
    "            'criterion': 'entropy',\n",
    "            'max_depth': 20,\n",
    "            'max_features': None,\n",
    "            'min_samples_leaf': 4,\n",
    "            'min_samples_split': 2,\n",
    "            'n_estimators': 20,\n",
    "            'oob_score': False,\n",
    "            'random_state': 0}\n",
    "}\n",
    "\n",
    "** All weeks params **\n",
    "{'cv': 6,\n",
    " 'score': 0.775,\n",
    " 'params': {'bootstrap': True,\n",
    "            'criterion': 'gini',\n",
    "            'max_depth': 20,\n",
    "            'max_features': None,\n",
    "            'min_samples_leaf': 4,\n",
    "            'min_samples_split': 8,\n",
    "            'n_estimators': 160,\n",
    "            'oob_score': False,\n",
    "            'random_state': 0}\n",
    "}"
   ]
  },
  {
   "cell_type": "markdown",
   "id": "7e154082-e87c-4722-b062-e976c3248361",
   "metadata": {},
   "source": [
    "### assign best params"
   ]
  },
  {
   "cell_type": "code",
   "execution_count": 14,
   "id": "de2cfada-6e73-4653-bc76-7cda051231a1",
   "metadata": {
    "ExecuteTime": {
     "end_time": "2023-11-05T04:28:58.995118Z",
     "start_time": "2023-11-05T04:28:58.938614Z"
    },
    "tags": []
   },
   "outputs": [],
   "source": [
    "params_8_weeks = \\\n",
    "    {\n",
    "        'bootstrap': False,\n",
    "        'criterion': 'gini',\n",
    "        'max_depth': 90,\n",
    "        'max_features': None,\n",
    "        'min_samples_leaf': 2,\n",
    "        'min_samples_split': 8,\n",
    "        'n_estimators': 290,\n",
    "        'oob_score': False,\n",
    "        'random_state': 0\n",
    "    }\n",
    "\n",
    "params_16_weeks = \\\n",
    "    {\n",
    "        'bootstrap': False,\n",
    "        'criterion': 'entropy',\n",
    "        'max_depth': 20,\n",
    "        'max_features': None,\n",
    "        'min_samples_leaf': 4,\n",
    "        'min_samples_split': 2,\n",
    "        'n_estimators': 20,\n",
    "        'oob_score': False,\n",
    "        'random_state': 0\n",
    "    }\n",
    "\n",
    "params_all_weeks = \\\n",
    "    {\n",
    "        'bootstrap': True,\n",
    "        'criterion': 'gini',\n",
    "        'max_depth': 20,\n",
    "        'max_features': None,\n",
    "        'min_samples_leaf': 4,\n",
    "        'min_samples_split': 8,\n",
    "        'n_estimators': 160,\n",
    "        'oob_score': False,\n",
    "        'random_state': 0\n",
    "    }"
   ]
  },
  {
   "cell_type": "code",
   "execution_count": null,
   "id": "01b65f56-b55b-4d3b-97c2-d65488cba668",
   "metadata": {
    "tags": []
   },
   "outputs": [],
   "source": [
    "# GridCV takes too long to compute\n",
    "params_8_weeks = param_search(random_grid, X_8_weeks, y_8_weeks, RandomForestClassifier, search_type='grid')"
   ]
  },
  {
   "cell_type": "markdown",
   "id": "8fa8b476-c3bc-4539-8f78-ad1881c8c7b7",
   "metadata": {},
   "source": [
    "---"
   ]
  },
  {
   "cell_type": "markdown",
   "id": "3aacfcbd-6878-4b2a-a046-c7f1095eb18c",
   "metadata": {},
   "source": [
    "### compute RF Forest models"
   ]
  },
  {
   "cell_type": "code",
   "execution_count": null,
   "id": "810316c5-21c8-4695-8d3b-9d59aa9f0914",
   "metadata": {
    "ExecuteTime": {
     "end_time": "2023-11-05T04:29:04.132966Z",
     "start_time": "2023-11-05T04:29:03.833374Z"
    }
   },
   "outputs": [],
   "source": [
    "model_8_weeks  = RandomForestClassifier(**params_8_weeks).fit(X_8_weeks, y_8_weeks)\n",
    "model_16_weeks = RandomForestClassifier(**params_16_weeks).fit(X_16_weeks, y_16_weeks)\n",
    "model_all_weeks = RandomForestClassifier(**params_all_weeks).fit(X_all_weeks, y_all_weeks)"
   ]
  },
  {
   "cell_type": "markdown",
   "id": "0807f0a9-0cbc-43a3-aa3a-b58fc7776ddc",
   "metadata": {},
   "source": [
    "---"
   ]
  },
  {
   "cell_type": "markdown",
   "id": "818584ac-7a13-4186-942f-39730edd208a",
   "metadata": {},
   "source": [
    "### compute SHAP values (used for explainablity)"
   ]
  },
  {
   "cell_type": "code",
   "execution_count": null,
   "id": "d72d11ab-9810-48ea-a78c-5a9009b02233",
   "metadata": {
    "ExecuteTime": {
     "end_time": "2023-11-05T04:30:47.873744Z",
     "start_time": "2023-11-05T04:30:47.824891Z"
    }
   },
   "outputs": [],
   "source": [
    "# need to change int and bool to classes int_ and bool_ to handle error 'numpy' has no attribute 'int'/'bool'/etc.\n",
    "np.bool = np.bool_\n",
    "np.int = np.int_\n",
    "np.float = np.float_"
   ]
  },
  {
   "cell_type": "code",
   "execution_count": null,
   "id": "9f7e846b-22e0-4aba-999e-becd31bdd2a5",
   "metadata": {
    "ExecuteTime": {
     "end_time": "2023-11-05T04:32:18.091061Z",
     "start_time": "2023-11-05T04:32:17.993657Z"
    }
   },
   "outputs": [],
   "source": [
    "explainer_8_weeks = shap.TreeExplainer(model_8_weeks, X_8_weeks, feature_names=X_8_weeks.columns.tolist())\n",
    "shap_values_8_weeks = explainer_8_weeks(X_8_weeks)\n",
    "\n",
    "explainer_16_weeks = shap.TreeExplainer(model_16_weeks, X_16_weeks, feature_names=X_16_weeks.columns.tolist())\n",
    "shap_values_16_weeks = explainer_16_weeks(X_16_weeks)\n",
    "\n",
    "explainer_all_weeks = shap.TreeExplainer(model_all_weeks, X_all_weeks, feature_names=X_all_weeks.columns.tolist())\n",
    "shap_values_all_weeks = explainer_all_weeks(X_all_weeks)"
   ]
  },
  {
   "cell_type": "markdown",
   "id": "8eb4268f-0ca9-4411-9db8-032e94471caf",
   "metadata": {},
   "source": [
    "---"
   ]
  },
  {
   "cell_type": "markdown",
   "id": "3338c84f-0c31-45b0-97ff-5f411c64d1ad",
   "metadata": {},
   "source": [
    "## Bar and summary plots of feature importance"
   ]
  },
  {
   "cell_type": "code",
   "execution_count": null,
   "id": "f39f8f3b-af23-458f-988d-76da3ae179f0",
   "metadata": {
    "ExecuteTime": {
     "end_time": "2023-11-05T04:32:44.151843Z",
     "start_time": "2023-11-05T04:32:42.790595Z"
    }
   },
   "outputs": [],
   "source": [
    "plot_shap_importance_with_summary(\n",
    "    shap_values_8_weeks[:, :, 1], \n",
    "    X_8_weeks, \n",
    "    title='',\n",
    "    save_fig=True,\n",
    "    file_name='pg_randomforest_SHAP_feature_importance_with_summary_8_weeks.png'\n",
    ")\n",
    "\n",
    "plot_shap_importance_with_summary(\n",
    "    shap_values_16_weeks[:, :, 1], \n",
    "    X_16_weeks, \n",
    "    title='',\n",
    "    save_fig=True,\n",
    "    file_name='pg_randomforest_SHAP_feature_importance_with_summary_16_weeks.png'\n",
    ")\n",
    "\n",
    "plot_shap_importance_with_summary(\n",
    "    shap_values_all_weeks[:, :, 1], \n",
    "    X_all_weeks, \n",
    "    title='',\n",
    "    supxlabel = 'SHAP value (impact on model output)',\n",
    "    save_fig=True,\n",
    "    file_name='pg_randomforest_SHAP_feature_importance_with_summary_all_weeks.png'\n",
    ")"
   ]
  },
  {
   "cell_type": "markdown",
   "id": "484fe3b1-9d31-4a69-b18f-2fa6e3dcc671",
   "metadata": {},
   "source": [
    "## SHAP heatmaps"
   ]
  },
  {
   "cell_type": "code",
   "execution_count": null,
   "id": "e25edc33-f8a3-45d1-9621-254f12272d9b",
   "metadata": {
    "ExecuteTime": {
     "end_time": "2023-11-05T04:33:06.922961Z",
     "start_time": "2023-11-05T04:33:05.684418Z"
    }
   },
   "outputs": [],
   "source": [
    "plot_shap_heatmap(\n",
    "    top_shap_values(shap_values_8_weeks[:, :, 1]), \n",
    "    \"SHAP Heatmap 8 Weeks\\nRandom Forest\", \n",
    "    x_label='Instances',\n",
    "    save_fig=True,\n",
    "    file_name='pg_randomforest_SHAP_Heatmap_8_Weeks.png'\n",
    ")\n",
    "\n",
    "plot_shap_heatmap(\n",
    "    top_shap_values(shap_values_16_weeks[:, :, 1]), \n",
    "    \"SHAP Heatmap 16 Weeks\\nRandom Forest\", \n",
    "    x_label='Instances',\n",
    "    save_fig=True,\n",
    "    file_name='pg_randomforest_SHAP_Heatmap_16_Weeks.png'\n",
    ")\n",
    "\n",
    "plot_shap_heatmap(\n",
    "    top_shap_values(shap_values_all_weeks[:, :, 1]), \n",
    "    \"SHAP Heatmap All Weeks\\nRandom Forest\", \n",
    "    x_label='Instances',\n",
    "    save_fig=True,\n",
    "    file_name='pg_randomforest_SHAP_Heatmap_All_Weeks.png'\n",
    ")"
   ]
  },
  {
   "cell_type": "markdown",
   "id": "1bdd6635-3517-43f9-b583-66162c569a1a",
   "metadata": {},
   "source": [
    "## SHAP dependence plots"
   ]
  },
  {
   "cell_type": "code",
   "execution_count": null,
   "id": "f2a4b382-9668-463c-b42e-d17992ffa0b2",
   "metadata": {
    "ExecuteTime": {
     "end_time": "2023-11-05T04:33:25.104278Z",
     "start_time": "2023-11-05T04:33:23.874501Z"
    }
   },
   "outputs": [],
   "source": [
    "plot_shap_dependence(\n",
    "    shap_values_8_weeks[:, :, 1], \n",
    "    X_8_weeks, \n",
    "    \"SHAP Dependence Plot 8 Weeks\\nRandom Forest\", \n",
    "    save_fig=True,\n",
    "    file_name='pg_randomforest_SHAP_Dependence_Plot_8_Weeks.png'\n",
    ")\n",
    "\n",
    "plot_shap_dependence(\n",
    "    shap_values_16_weeks[:, :, 1], \n",
    "    X_16_weeks, \n",
    "    \"SHAP Dependence Plot 16 Weeks\\nRandom Forest\", \n",
    "    save_fig=True,\n",
    "    file_name='pg_randomforest_SHAP_Dependence_Plot_16_Weeks.png'\n",
    ")\n",
    "\n",
    "plot_shap_dependence(\n",
    "    shap_values_all_weeks[:, :, 1], \n",
    "    X_all_weeks, \n",
    "    \"SHAP Dependence Plot All Weeks\\nRandom Forest\", \n",
    "    save_fig=True,\n",
    "    file_name='pg_randomforest_SHAP_Dependence_Plot_All_Weeks.png'\n",
    ")"
   ]
  },
  {
   "cell_type": "code",
   "execution_count": 1,
   "id": "327bcc79-6de7-46e1-873c-20447dc8f142",
   "metadata": {
    "ExecuteTime": {
     "end_time": "2023-10-19T15:46:36.759178Z",
     "start_time": "2023-10-19T15:46:36.759147Z"
    }
   },
   "outputs": [
    {
     "name": "stdout",
     "output_type": "stream",
     "text": [
      "fatal: not a git repository (or any parent up to mount point /home)\n",
      "Stopping at filesystem boundary (GIT_DISCOVERY_ACROSS_FILESYSTEM not set).\n"
     ]
    }
   ],
   "source": [
    "!git status"
   ]
  },
  {
   "cell_type": "code",
   "execution_count": null,
   "id": "267af3b5-2353-471c-a992-338f040e026d",
   "metadata": {},
   "outputs": [],
   "source": []
  }
 ],
 "metadata": {
  "kernelspec": {
   "display_name": "Python 3 (ipykernel)",
   "language": "python",
   "name": "python3"
  },
  "language_info": {
   "codemirror_mode": {
    "name": "ipython",
    "version": 3
   },
   "file_extension": ".py",
   "mimetype": "text/x-python",
   "name": "python",
   "nbconvert_exporter": "python",
   "pygments_lexer": "ipython3",
   "version": "3.11.3"
  }
 },
 "nbformat": 4,
 "nbformat_minor": 5
}
