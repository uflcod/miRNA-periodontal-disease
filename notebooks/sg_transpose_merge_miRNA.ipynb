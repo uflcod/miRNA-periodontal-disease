{
 "cells": [
  {
   "cell_type": "markdown",
   "metadata": {},
   "source": [
    "# Transpose and merge miRNA data\n",
    "Run notebook to transpose and merge miRNA data in the files:\n",
    "* `Sg_8_weeks.xlsx`\n",
    "* `Sg_Sham_8_weeks.xlsx`\n",
    "* `Sg_16_weeks.xlsx`\n",
    "* `Sg_Sham_16_weeks.xlsx`\n",
    "\n",
    "Outputs the `transposed_Sg_miRNA.xlsx` file."
   ]
  },
  {
   "cell_type": "code",
   "execution_count": 29,
   "metadata": {
    "ExecuteTime": {
     "end_time": "2023-11-06T02:44:14.168343Z",
     "start_time": "2023-11-06T02:44:14.157071Z"
    }
   },
   "outputs": [],
   "source": [
    "import pandas as pd\n",
    "import numpy as np"
   ]
  },
  {
   "cell_type": "code",
   "execution_count": 30,
   "metadata": {
    "ExecuteTime": {
     "end_time": "2023-11-06T02:44:14.943807Z",
     "start_time": "2023-11-06T02:44:14.939390Z"
    }
   },
   "outputs": [],
   "source": [
    "def transpose_df(file_name, cohort=None):\n",
    "    def create_cohort_key(cohorts, mouse_numbers):\n",
    "        cohort_keys = [\n",
    "            c + '_' + n\n",
    "            for c,n in zip(cohorts, mouse_numbers)\n",
    "        ]\n",
    "        return cohort_keys\n",
    "        \n",
    "    df = pd.read_excel(file_name) # read data\n",
    "\n",
    "    # merge miR and accession values into name col\n",
    "    # and add as first col in datafame\n",
    "    names = df.miR.str.cat(' (' + df.accession + ')')\n",
    "    df.insert(0, 'miR_name', names)\n",
    "\n",
    "    # now drop miR and accession cols\n",
    "    df = df.drop(columns=['miR', 'accession'])\n",
    "    \n",
    "    # flip/transpose df\n",
    "    tx_df  = df.transpose()\n",
    "\n",
    "    # set columns to first row\n",
    "    tx_df = tx_df.rename(columns=tx_df.iloc[0]).iloc[1:] # set colums to first row\n",
    "    tx_df.index.name = 'Name'\n",
    "    tx_df = tx_df.reset_index()\n",
    "    tx_df.Name = tx_df.Name.astype(str)\n",
    "\n",
    "    # add mouse numbers to each cohort\n",
    "    mouse_numbers = list(tx_df['Name'].map(lambda x: x.split('-')[-1]))\n",
    "    tx_df.insert(0, 'mouse_number', mouse_numbers)\n",
    "\n",
    "    # add sex info: mice 1-5 are male, rest are female\n",
    "    tx_df['female'] = np.where(tx_df['mouse_number'].astype(int) < 6, 0, 1)\n",
    "    \n",
    "    # add name of cohort\n",
    "    if cohort:\n",
    "        tx_df.insert(0, 'cohort', cohort)\n",
    "\n",
    "        # add cohort key\n",
    "        cohort_keys = create_cohort_key(tx_df.cohort, tx_df.mouse_number)\n",
    "        tx_df.insert(0, 'cohort_key', cohort_keys)\n",
    "\n",
    "    return tx_df"
   ]
  },
  {
   "cell_type": "code",
   "execution_count": 31,
   "metadata": {
    "ExecuteTime": {
     "end_time": "2023-11-06T02:44:16.030512Z",
     "start_time": "2023-11-06T02:44:16.022223Z"
    }
   },
   "outputs": [],
   "source": [
    "file_names = ['../data/Sg_8_weeks.xlsx', '../data/Sg_Sham_8_weeks.xlsx', '../data/Sg_16_weeks.xlsx', '../data/Sg_Sham_16_weeks.xlsx']\n",
    "cohort_names = ['sg_8_weeks', 'sham_8_weeks', 'sg_16_weeks', 'sham_16_weeks']"
   ]
  },
  {
   "cell_type": "code",
   "execution_count": 32,
   "metadata": {
    "ExecuteTime": {
     "end_time": "2023-11-06T02:44:16.794900Z",
     "start_time": "2023-11-06T02:44:16.782597Z"
    }
   },
   "outputs": [
    {
     "data": {
      "text/plain": [
       "[('../data/Sg_8_weeks.xlsx', 'sg_8_weeks'),\n",
       " ('../data/Sg_Sham_8_weeks.xlsx', 'sham_8_weeks'),\n",
       " ('../data/Sg_16_weeks.xlsx', 'sg_16_weeks'),\n",
       " ('../data/Sg_Sham_16_weeks.xlsx', 'sham_16_weeks')]"
      ]
     },
     "execution_count": 32,
     "metadata": {},
     "output_type": "execute_result"
    }
   ],
   "source": [
    "list(zip(file_names, cohort_names))"
   ]
  },
  {
   "cell_type": "code",
   "execution_count": 24,
   "metadata": {
    "ExecuteTime": {
     "end_time": "2023-11-05T04:24:39.859824Z",
     "start_time": "2023-11-05T04:24:39.498106Z"
    }
   },
   "outputs": [
    {
     "name": "stdout",
     "output_type": "stream",
     "text": [
      "../data/Sg_8_weeks.xlsx sg_8_weeks\n",
      "../data/Sg_Sham_8_weeks.xlsx sham_8_weeks\n",
      "../data/Sg_16_weeks.xlsx sg_16_weeks\n",
      "../data/Sg_Sham_16_weeks.xlsx sham_16_weeks\n"
     ]
    }
   ],
   "source": [
    "# # testing\n",
    "# for (file_name, cohort_name) in zip(file_names, cohort_names):\n",
    "#     print(file_name, cohort_name)\n",
    "#     transpose_df(file_name, cohort_name)"
   ]
  },
  {
   "cell_type": "code",
   "execution_count": 25,
   "metadata": {
    "ExecuteTime": {
     "end_time": "2023-11-05T04:24:41.255843Z",
     "start_time": "2023-11-05T04:24:40.856573Z"
    }
   },
   "outputs": [],
   "source": [
    "dfs = [transpose_df(file_name, cohort_name) for (file_name, cohort_name) in zip(file_names, cohort_names)]"
   ]
  },
  {
   "cell_type": "code",
   "execution_count": 26,
   "metadata": {
    "ExecuteTime": {
     "end_time": "2023-11-05T04:24:42.134173Z",
     "start_time": "2023-11-05T04:24:42.129588Z"
    }
   },
   "outputs": [
    {
     "data": {
      "text/plain": [
       "40"
      ]
     },
     "execution_count": 26,
     "metadata": {},
     "output_type": "execute_result"
    }
   ],
   "source": [
    "final_df = pd.concat(dfs)\n",
    "len(final_df)"
   ]
  },
  {
   "cell_type": "code",
   "execution_count": 27,
   "metadata": {
    "ExecuteTime": {
     "end_time": "2023-11-05T04:24:44.377798Z",
     "start_time": "2023-11-05T04:24:44.363942Z"
    }
   },
   "outputs": [
    {
     "data": {
      "text/html": [
       "<div>\n",
       "<style scoped>\n",
       "    .dataframe tbody tr th:only-of-type {\n",
       "        vertical-align: middle;\n",
       "    }\n",
       "\n",
       "    .dataframe tbody tr th {\n",
       "        vertical-align: top;\n",
       "    }\n",
       "\n",
       "    .dataframe thead th {\n",
       "        text-align: right;\n",
       "    }\n",
       "</style>\n",
       "<table border=\"1\" class=\"dataframe\">\n",
       "  <thead>\n",
       "    <tr style=\"text-align: right;\">\n",
       "      <th></th>\n",
       "      <th>cohort_key</th>\n",
       "      <th>cohort</th>\n",
       "      <th>mouse_number</th>\n",
       "      <th>Name</th>\n",
       "      <th>mcmv-miR-M23-1-3p (MIMAT0005543)</th>\n",
       "      <th>mcmv-miR-M23-1-5p (MIMAT0005542)</th>\n",
       "      <th>mcmv-miR-M23-2 (MIMAT0005545)</th>\n",
       "      <th>mcmv-miR-M44-1 (MIMAT0005546)</th>\n",
       "      <th>mcmv-miR-M55-1 (MIMAT0005547)</th>\n",
       "      <th>mcmv-miR-M87-1 (MIMAT0005550)</th>\n",
       "      <th>...</th>\n",
       "      <th>mmu-miR-883b-5p (MIMAT0004850)</th>\n",
       "      <th>mmu-miR-9 (MIMAT0000142)</th>\n",
       "      <th>mmu-miR-92a (MIMAT0000539)</th>\n",
       "      <th>mmu-miR-92b (MIMAT0004899)</th>\n",
       "      <th>mmu-miR-93 (MIMAT0000540)</th>\n",
       "      <th>mmu-miR-96 (MIMAT0000541)</th>\n",
       "      <th>mmu-miR-98 (MIMAT0000545)</th>\n",
       "      <th>mmu-miR-99a (MIMAT0000131)</th>\n",
       "      <th>mmu-miR-99b (MIMAT0000132)</th>\n",
       "      <th>female</th>\n",
       "    </tr>\n",
       "  </thead>\n",
       "  <tbody>\n",
       "    <tr>\n",
       "      <th>0</th>\n",
       "      <td>sg_8_weeks_10_12</td>\n",
       "      <td>sg_8_weeks</td>\n",
       "      <td>10_12</td>\n",
       "      <td>20220829_run10_GVI-8W-10_12</td>\n",
       "      <td>89</td>\n",
       "      <td>80</td>\n",
       "      <td>22</td>\n",
       "      <td>37</td>\n",
       "      <td>61</td>\n",
       "      <td>33</td>\n",
       "      <td>...</td>\n",
       "      <td>67</td>\n",
       "      <td>140</td>\n",
       "      <td>25</td>\n",
       "      <td>25</td>\n",
       "      <td>245</td>\n",
       "      <td>392</td>\n",
       "      <td>790</td>\n",
       "      <td>5559</td>\n",
       "      <td>364</td>\n",
       "      <td>1</td>\n",
       "    </tr>\n",
       "    <tr>\n",
       "      <th>1</th>\n",
       "      <td>sg_8_weeks_1_03</td>\n",
       "      <td>sg_8_weeks</td>\n",
       "      <td>1_03</td>\n",
       "      <td>20220829_run10_GVI-8W-1_03</td>\n",
       "      <td>88</td>\n",
       "      <td>60</td>\n",
       "      <td>18</td>\n",
       "      <td>14</td>\n",
       "      <td>52</td>\n",
       "      <td>23</td>\n",
       "      <td>...</td>\n",
       "      <td>42</td>\n",
       "      <td>71</td>\n",
       "      <td>19</td>\n",
       "      <td>25</td>\n",
       "      <td>151</td>\n",
       "      <td>254</td>\n",
       "      <td>765</td>\n",
       "      <td>3564</td>\n",
       "      <td>264</td>\n",
       "      <td>1</td>\n",
       "    </tr>\n",
       "    <tr>\n",
       "      <th>2</th>\n",
       "      <td>sg_8_weeks_2_04</td>\n",
       "      <td>sg_8_weeks</td>\n",
       "      <td>2_04</td>\n",
       "      <td>20220829_run10_GVI-8W-2_04</td>\n",
       "      <td>75</td>\n",
       "      <td>82</td>\n",
       "      <td>12</td>\n",
       "      <td>22</td>\n",
       "      <td>63</td>\n",
       "      <td>30</td>\n",
       "      <td>...</td>\n",
       "      <td>62</td>\n",
       "      <td>143</td>\n",
       "      <td>21</td>\n",
       "      <td>18</td>\n",
       "      <td>174</td>\n",
       "      <td>393</td>\n",
       "      <td>659</td>\n",
       "      <td>5139</td>\n",
       "      <td>274</td>\n",
       "      <td>1</td>\n",
       "    </tr>\n",
       "    <tr>\n",
       "      <th>3</th>\n",
       "      <td>sg_8_weeks_3_05</td>\n",
       "      <td>sg_8_weeks</td>\n",
       "      <td>3_05</td>\n",
       "      <td>20220829_run10_GVI-8W-3_05</td>\n",
       "      <td>59</td>\n",
       "      <td>67</td>\n",
       "      <td>15</td>\n",
       "      <td>24</td>\n",
       "      <td>42</td>\n",
       "      <td>42</td>\n",
       "      <td>...</td>\n",
       "      <td>68</td>\n",
       "      <td>169</td>\n",
       "      <td>26</td>\n",
       "      <td>20</td>\n",
       "      <td>166</td>\n",
       "      <td>197</td>\n",
       "      <td>630</td>\n",
       "      <td>3887</td>\n",
       "      <td>250</td>\n",
       "      <td>1</td>\n",
       "    </tr>\n",
       "    <tr>\n",
       "      <th>4</th>\n",
       "      <td>sg_8_weeks_4_06</td>\n",
       "      <td>sg_8_weeks</td>\n",
       "      <td>4_06</td>\n",
       "      <td>20220829_run10_GVI-8W-4_06</td>\n",
       "      <td>94</td>\n",
       "      <td>83</td>\n",
       "      <td>20</td>\n",
       "      <td>28</td>\n",
       "      <td>83</td>\n",
       "      <td>35</td>\n",
       "      <td>...</td>\n",
       "      <td>102</td>\n",
       "      <td>116</td>\n",
       "      <td>26</td>\n",
       "      <td>20</td>\n",
       "      <td>218</td>\n",
       "      <td>338</td>\n",
       "      <td>829</td>\n",
       "      <td>5606</td>\n",
       "      <td>356</td>\n",
       "      <td>1</td>\n",
       "    </tr>\n",
       "  </tbody>\n",
       "</table>\n",
       "<p>5 rows × 604 columns</p>\n",
       "</div>"
      ],
      "text/plain": [
       "         cohort_key      cohort mouse_number                         Name  \\\n",
       "0  sg_8_weeks_10_12  sg_8_weeks        10_12  20220829_run10_GVI-8W-10_12   \n",
       "1   sg_8_weeks_1_03  sg_8_weeks         1_03   20220829_run10_GVI-8W-1_03   \n",
       "2   sg_8_weeks_2_04  sg_8_weeks         2_04   20220829_run10_GVI-8W-2_04   \n",
       "3   sg_8_weeks_3_05  sg_8_weeks         3_05   20220829_run10_GVI-8W-3_05   \n",
       "4   sg_8_weeks_4_06  sg_8_weeks         4_06   20220829_run10_GVI-8W-4_06   \n",
       "\n",
       "  mcmv-miR-M23-1-3p (MIMAT0005543) mcmv-miR-M23-1-5p (MIMAT0005542)  \\\n",
       "0                               89                               80   \n",
       "1                               88                               60   \n",
       "2                               75                               82   \n",
       "3                               59                               67   \n",
       "4                               94                               83   \n",
       "\n",
       "  mcmv-miR-M23-2 (MIMAT0005545) mcmv-miR-M44-1 (MIMAT0005546)  \\\n",
       "0                            22                            37   \n",
       "1                            18                            14   \n",
       "2                            12                            22   \n",
       "3                            15                            24   \n",
       "4                            20                            28   \n",
       "\n",
       "  mcmv-miR-M55-1 (MIMAT0005547) mcmv-miR-M87-1 (MIMAT0005550)  ...  \\\n",
       "0                            61                            33  ...   \n",
       "1                            52                            23  ...   \n",
       "2                            63                            30  ...   \n",
       "3                            42                            42  ...   \n",
       "4                            83                            35  ...   \n",
       "\n",
       "  mmu-miR-883b-5p (MIMAT0004850) mmu-miR-9 (MIMAT0000142)  \\\n",
       "0                             67                      140   \n",
       "1                             42                       71   \n",
       "2                             62                      143   \n",
       "3                             68                      169   \n",
       "4                            102                      116   \n",
       "\n",
       "  mmu-miR-92a (MIMAT0000539) mmu-miR-92b (MIMAT0004899)  \\\n",
       "0                         25                         25   \n",
       "1                         19                         25   \n",
       "2                         21                         18   \n",
       "3                         26                         20   \n",
       "4                         26                         20   \n",
       "\n",
       "  mmu-miR-93 (MIMAT0000540) mmu-miR-96 (MIMAT0000541)  \\\n",
       "0                       245                       392   \n",
       "1                       151                       254   \n",
       "2                       174                       393   \n",
       "3                       166                       197   \n",
       "4                       218                       338   \n",
       "\n",
       "  mmu-miR-98 (MIMAT0000545) mmu-miR-99a (MIMAT0000131)  \\\n",
       "0                       790                       5559   \n",
       "1                       765                       3564   \n",
       "2                       659                       5139   \n",
       "3                       630                       3887   \n",
       "4                       829                       5606   \n",
       "\n",
       "  mmu-miR-99b (MIMAT0000132) female  \n",
       "0                        364      1  \n",
       "1                        264      1  \n",
       "2                        274      1  \n",
       "3                        250      1  \n",
       "4                        356      1  \n",
       "\n",
       "[5 rows x 604 columns]"
      ]
     },
     "execution_count": 27,
     "metadata": {},
     "output_type": "execute_result"
    }
   ],
   "source": [
    "final_df.head()"
   ]
  },
  {
   "cell_type": "code",
   "execution_count": 28,
   "metadata": {
    "ExecuteTime": {
     "end_time": "2023-11-05T04:24:52.700785Z",
     "start_time": "2023-11-05T04:24:52.391964Z"
    }
   },
   "outputs": [],
   "source": [
    "final_df.to_excel('../data/Streptococcus_gordonii/transposed_Sg_miRNA.xlsx', index=False, engine='openpyxl')"
   ]
  },
  {
   "cell_type": "code",
   "execution_count": null,
   "metadata": {},
   "outputs": [],
   "source": []
  }
 ],
 "metadata": {
  "kernelspec": {
   "display_name": "Python 3 (ipykernel)",
   "language": "python",
   "name": "python3"
  },
  "language_info": {
   "codemirror_mode": {
    "name": "ipython",
    "version": 3
   },
   "file_extension": ".py",
   "mimetype": "text/x-python",
   "name": "python",
   "nbconvert_exporter": "python",
   "pygments_lexer": "ipython3",
   "version": "3.11.6"
  }
 },
 "nbformat": 4,
 "nbformat_minor": 4
}
