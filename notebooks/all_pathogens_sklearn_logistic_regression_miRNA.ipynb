{
 "cells": [
  {
   "cell_type": "markdown",
   "id": "b07f9a8a-8b5d-4ef2-ab31-520e47ccd0d2",
   "metadata": {},
   "source": [
    "# Logistic Regression miRNA\n",
    "Runs sklearn's [Logistric Regression](https://scikit-learn.org/stable/modules/generated/sklearn.linear_model.LogisticRegression.html) on miRNA data.  \n",
    "\n",
    "Three datasets are analyzed using the RandomForest classifier:\n",
    "* Sham and infeceted mice from all weeks; i.e., 8 week and 16 week datasets are merged.\n",
    "* Sham and infected mice at 8 weeks.\n",
    "* Sham and infected mice at 16 weeks.\n",
    "\n",
    "In each dataset, there is a flag (named ‘infected’) that marks whether the mice came from the infected group or the sham group.  \n",
    "RandomForestClassifier's variable importance and SHAP values are then used to determine which miRNA variable was most important in each cohort dataset."
   ]
  },
  {
   "cell_type": "code",
   "execution_count": 1,
   "id": "f6ad5752-ea48-4c57-9d3a-620f633598a9",
   "metadata": {
    "ExecuteTime": {
     "end_time": "2023-11-05T04:55:24.447638Z",
     "start_time": "2023-11-05T04:55:24.138858Z"
    }
   },
   "outputs": [],
   "source": [
    "%load_ext autoreload\n",
    "%autoreload 2"
   ]
  },
  {
   "cell_type": "code",
   "execution_count": 2,
   "id": "86299249-0dbe-46f7-b025-f5eec0a6ee33",
   "metadata": {
    "ExecuteTime": {
     "end_time": "2023-11-05T04:55:24.757092Z",
     "start_time": "2023-11-05T04:55:24.713559Z"
    }
   },
   "outputs": [],
   "source": [
    "# trying to supress sklearn warning\n",
    "import os\n",
    "os.environ[\"PYTHONWARNINGS\"] = \"ignore::UserWarning\"\n",
    "import warnings\n",
    "warnings.filterwarnings('ignore')\n",
    "warnings.simplefilter(action='ignore', category=FutureWarning)"
   ]
  },
  {
   "cell_type": "code",
   "execution_count": 3,
   "id": "443dc93a-e54c-43df-882e-b0e40f060ae8",
   "metadata": {
    "ExecuteTime": {
     "end_time": "2023-11-05T04:55:26.870546Z",
     "start_time": "2023-11-05T04:55:26.838950Z"
    }
   },
   "outputs": [],
   "source": [
    "import pandas as pd\n",
    "import numpy as np\n",
    "import matplotlib.pyplot as plt\n",
    "import seaborn as sns\n",
    "\n",
    "import sklearn\n",
    "from sklearn.linear_model import LogisticRegression\n",
    "from sklearn.preprocessing import StandardScaler\n",
    "from sklearn.model_selection import \\\n",
    "    RandomizedSearchCV, GridSearchCV, RepeatedKFold, cross_val_score, train_test_split\n",
    "from sklearn.metrics import \\\n",
    "    accuracy_score, f1_score, recall_score, classification_report, \\\n",
    "    roc_auc_score, roc_curve, mean_absolute_error\n",
    "from IPython.display import display\n",
    "import random\n",
    "import shap\n",
    "\n",
    "from util import \\\n",
    "    make_mirna_nanostring_df, make_study_df, param_search_cv, \\\n",
    "    param_search, plot_shap_feature_importance, plot_xgb_feature_importance, \\\n",
    "    combine_shap_heatmaps, plot_shap_summary, plot_shap_heatmap, \\\n",
    "    plot_shap_dependence, plot_shap_importance_with_summary, top_shap_values"
   ]
  },
  {
   "cell_type": "code",
   "execution_count": 4,
   "id": "9e652391-7fd1-49d8-aa13-2527859cb9e0",
   "metadata": {
    "ExecuteTime": {
     "end_time": "2023-11-05T04:55:28.431176Z",
     "start_time": "2023-11-05T04:55:28.209121Z"
    }
   },
   "outputs": [
    {
     "name": "stdout",
     "output_type": "stream",
     "text": [
      "Python 3.13.0\n"
     ]
    }
   ],
   "source": [
    "! python --version"
   ]
  },
  {
   "cell_type": "code",
   "execution_count": 5,
   "id": "1459ffd5-2e30-443b-b983-5b98064d2c36",
   "metadata": {
    "ExecuteTime": {
     "end_time": "2023-11-05T04:55:29.535925Z",
     "start_time": "2023-11-05T04:55:29.474918Z"
    }
   },
   "outputs": [
    {
     "name": "stdout",
     "output_type": "stream",
     "text": [
      "sklearn version 1.3.0\n",
      "shap version 0.42.1\n"
     ]
    }
   ],
   "source": [
    "print('sklearn version', sklearn.__version__)\n",
    "print('shap version', shap.__version__)"
   ]
  },
  {
   "cell_type": "markdown",
   "id": "e5c11900-5366-4518-a9a3-6678d7c5adb0",
   "metadata": {},
   "source": [
    "---"
   ]
  },
  {
   "cell_type": "markdown",
   "id": "003edfa5-0509-4fe2-ba7a-49524f3d5c64",
   "metadata": {},
   "source": [
    "## load miRNA data"
   ]
  },
  {
   "cell_type": "code",
   "execution_count": 6,
   "id": "25e7cbcb-f082-4fd1-bcbe-6e09200da46d",
   "metadata": {
    "ExecuteTime": {
     "end_time": "2023-11-06T02:45:37.145569Z",
     "start_time": "2023-11-06T02:45:36.876433Z"
    }
   },
   "outputs": [
    {
     "data": {
      "text/plain": [
       "[('../data/Fusobacterium_nucleatum/8 weeks F. nucleatum infection.csv',\n",
       "  'inf_fn_8_weeks'),\n",
       " ('../data/Fusobacterium_nucleatum/8 weeks SHAM infection.csv',\n",
       "  'sham_fn_8_weeks'),\n",
       " ('../data/Fusobacterium_nucleatum/16 weeks F. nucleatum infection.csv',\n",
       "  'inf_fn_16_weeks'),\n",
       " ('../data/Fusobacterium_nucleatum/16 weeks SHAM infection.csv',\n",
       "  'sham_fn_16_weeks'),\n",
       " ('../data/Porphyromonas_gingivalis/8 weeks P. gingivalis NanoString Data.csv',\n",
       "  'inf_pg_8_weeks'),\n",
       " ('../data/Porphyromonas_gingivalis/8 weeks SHAM RAW data.csv',\n",
       "  'sham_pg_8_weeks'),\n",
       " ('../data/Porphyromonas_gingivalis/16 weeks P. gingivalis  NanoString Data.csv',\n",
       "  'inf_pg_16_weeks'),\n",
       " ('../data/Porphyromonas_gingivalis/16 weeks SHAM RAW data.csv',\n",
       "  'sham_pg_16_weeks'),\n",
       " ('../data/Streptococcus_gordonii/8 weeks S.gordonii infection.csv',\n",
       "  'inf_sg_8_weeks'),\n",
       " ('../data/Streptococcus_gordonii/8 weeks SHAM infection.csv',\n",
       "  'sham_sg_8_weeks'),\n",
       " ('../data/Streptococcus_gordonii/16 weeks S. gordonii infection.csv',\n",
       "  'inf_sg_16_weeks'),\n",
       " ('../data/Streptococcus_gordonii/16 weeks SHAM infection.csv',\n",
       "  'sham_sg_16_weeks'),\n",
       " ('../data/Tannerella_forsythia/8 weeks T. forsythia bacteria infected mice RAW data.csv',\n",
       "  'inf_tf_8_weeks'),\n",
       " ('../data/Tannerella_forsythia/8 weeks SHAM RAW data.csv', 'sham_tf_8_weeks'),\n",
       " ('../data/Tannerella_forsythia/16 weeks T. forsythia bacteria infected mice RAW data.csv',\n",
       "  'inf_tf_16_weeks'),\n",
       " ('../data/Tannerella_forsythia/16 weeks SHAM RAW data.csv',\n",
       "  'sham_tf_16_weeks'),\n",
       " ('../data/Treponema_denticola/8 weeks T. denticola bacteria infected mice RAW data.csv',\n",
       "  'inf_td_8_weeks'),\n",
       " ('../data/Treponema_denticola/8 weeks SHAM RAW data.csv', 'sham_td_8_weeks'),\n",
       " ('../data/Treponema_denticola/16 weeks T. denticola bacteria infected mice RAW data.csv',\n",
       "  'inf_td_16_weeks'),\n",
       " ('../data/Treponema_denticola/16 weeks SHAM RAW data.csv',\n",
       "  'sham_td_16_weeks')]"
      ]
     },
     "execution_count": 6,
     "metadata": {},
     "output_type": "execute_result"
    }
   ],
   "source": [
    "file_names = [\n",
    "    '../data/Fusobacterium_nucleatum/8 weeks F. nucleatum infection.csv',\n",
    "    '../data/Fusobacterium_nucleatum/8 weeks SHAM infection.csv',\n",
    "    '../data/Fusobacterium_nucleatum/16 weeks F. nucleatum infection.csv',\n",
    "    '../data/Fusobacterium_nucleatum/16 weeks SHAM infection.csv',\n",
    "    '../data/Porphyromonas_gingivalis/8 weeks P. gingivalis NanoString Data.csv',\n",
    "    '../data/Porphyromonas_gingivalis/8 weeks SHAM RAW data.csv',\n",
    "    '../data/Porphyromonas_gingivalis/16 weeks P. gingivalis  NanoString Data.csv',\n",
    "    '../data/Porphyromonas_gingivalis/16 weeks SHAM RAW data.csv',\n",
    "    '../data/Streptococcus_gordonii/8 weeks S.gordonii infection.csv',\n",
    "    '../data/Streptococcus_gordonii/8 weeks SHAM infection.csv',\n",
    "    '../data/Streptococcus_gordonii/16 weeks S. gordonii infection.csv',\n",
    "    '../data/Streptococcus_gordonii/16 weeks SHAM infection.csv',\n",
    "    '../data/Tannerella_forsythia/8 weeks T. forsythia bacteria infected mice RAW data.csv',\n",
    "    '../data/Tannerella_forsythia/8 weeks SHAM RAW data.csv',\n",
    "    '../data/Tannerella_forsythia/16 weeks T. forsythia bacteria infected mice RAW data.csv',\n",
    "    '../data/Tannerella_forsythia/16 weeks SHAM RAW data.csv',\n",
    "    '../data/Treponema_denticola/8 weeks T. denticola bacteria infected mice RAW data.csv',\n",
    "    '../data/Treponema_denticola/8 weeks SHAM RAW data.csv',\n",
    "    '../data/Treponema_denticola/16 weeks T. denticola bacteria infected mice RAW data.csv',\n",
    "    '../data/Treponema_denticola/16 weeks SHAM RAW data.csv'\n",
    "]\n",
    "cohort_names = [\n",
    "    'inf_fn_8_weeks', 'sham_fn_8_weeks', 'inf_fn_16_weeks', 'sham_fn_16_weeks',\n",
    "    'inf_pg_8_weeks', 'sham_pg_8_weeks', 'inf_pg_16_weeks', 'sham_pg_16_weeks',\n",
    "    'inf_sg_8_weeks', 'sham_sg_8_weeks', 'inf_sg_16_weeks', 'sham_sg_16_weeks',\n",
    "    'inf_tf_8_weeks', 'sham_tf_8_weeks', 'inf_tf_16_weeks', 'sham_tf_16_weeks',\n",
    "    'inf_td_8_weeks', 'sham_td_8_weeks', 'inf_td_16_weeks', 'sham_td_16_weeks'\n",
    "]\n",
    "list(zip(file_names, cohort_names))"
   ]
  },
  {
   "cell_type": "code",
   "execution_count": 7,
   "id": "3bb12a4a-11b3-4800-a51e-dca7356e7461",
   "metadata": {},
   "outputs": [
    {
     "data": {
      "text/plain": [
       "(200, 604)"
      ]
     },
     "execution_count": 7,
     "metadata": {},
     "output_type": "execute_result"
    }
   ],
   "source": [
    "miRNA_df = make_mirna_nanostring_df(file_names, cohort_names)\n",
    "miRNA_df.shape"
   ]
  },
  {
   "cell_type": "markdown",
   "id": "bd358419-2f7b-4b0c-928a-4dd4d05b8135",
   "metadata": {},
   "source": [
    "## create dataframes and X, y datasets"
   ]
  },
  {
   "cell_type": "code",
   "execution_count": 8,
   "id": "ade83856-151f-4b09-a416-68c6e8fac330",
   "metadata": {
    "ExecuteTime": {
     "end_time": "2023-11-05T04:55:34.975574Z",
     "start_time": "2023-11-05T04:55:34.900339Z"
    }
   },
   "outputs": [],
   "source": [
    "df_8_weeks = make_study_df(miRNA_df, cohort_str='8_weeks', infected_str='inf_')\n",
    "df_16_weeks = make_study_df(miRNA_df, cohort_str='16_weeks', infected_str='inf_')\n",
    "df_all_weeks = make_study_df(miRNA_df, infected_str='inf_')"
   ]
  },
  {
   "cell_type": "code",
   "execution_count": 9,
   "id": "0d67c33f-4ba1-4418-906e-169ea285fd68",
   "metadata": {
    "ExecuteTime": {
     "end_time": "2023-11-05T04:55:35.629431Z",
     "start_time": "2023-11-05T04:55:35.574080Z"
    }
   },
   "outputs": [],
   "source": [
    "X_8_weeks, y_8_weeks = df_8_weeks.drop('infected', axis=1), df_8_weeks['infected']\n",
    "X_16_weeks, y_16_weeks = df_16_weeks.drop('infected', axis=1), df_16_weeks['infected']\n",
    "X_all_weeks, y_all_weeks = df_all_weeks.drop('infected', axis=1), df_all_weeks['infected']"
   ]
  },
  {
   "cell_type": "markdown",
   "id": "6070383a-43fe-4367-89b3-8771b4f5091a",
   "metadata": {},
   "source": [
    "---"
   ]
  },
  {
   "cell_type": "markdown",
   "id": "8ca35e60-b82e-4037-86cd-5366f933a8d1",
   "metadata": {},
   "source": [
    "## search for best params"
   ]
  },
  {
   "cell_type": "code",
   "execution_count": 10,
   "id": "58da6dc3-4154-4c55-9d11-b13e9f4087b1",
   "metadata": {
    "ExecuteTime": {
     "end_time": "2023-11-05T04:55:40.182106Z",
     "start_time": "2023-11-05T04:55:40.117711Z"
    }
   },
   "outputs": [],
   "source": [
    "param_grid = {\n",
    "    'penalty' : ['l1','l2'], \n",
    "    'C': [0.1, 1, 10, 100, 1000], \n",
    "    'solver'  : ['newton-cg', 'lbfgs', 'liblinear'],\n",
    "    'max_iter': [50, 100, 150, 200]\n",
    "}"
   ]
  },
  {
   "cell_type": "code",
   "execution_count": 11,
   "id": "c29d8f50-7487-42a0-a453-fa131b35a2a2",
   "metadata": {
    "ExecuteTime": {
     "end_time": "2023-11-05T04:55:43.931314Z",
     "start_time": "2023-11-05T04:55:43.875822Z"
    }
   },
   "outputs": [],
   "source": [
    "# used for testing single param search\n",
    "# params_8_weeks = \\\n",
    "#     param_search(param_grid, X_8_weeks, y_8_weeks, LogisticRegression, cv=5, search_type='grid')"
   ]
  },
  {
   "cell_type": "markdown",
   "id": "8700369e-4e99-47df-b952-adfa76cf5294",
   "metadata": {},
   "source": [
    "### Run GridSearchCV to find best params."
   ]
  },
  {
   "cell_type": "code",
   "execution_count": 12,
   "id": "5f2d5edf-d0ff-493c-ac4a-e8943b719337",
   "metadata": {
    "ExecuteTime": {
     "end_time": "2023-11-05T06:49:50.046654Z",
     "start_time": "2023-11-05T06:40:21.138791Z"
    }
   },
   "outputs": [
    {
     "name": "stdout",
     "output_type": "stream",
     "text": [
      "** 8 weeks params **\n",
      "{'cv': 10,\n",
      " 'params': {'C': 1000, 'max_iter': 200, 'penalty': 'l1', 'solver': 'liblinear'},\n",
      " 'score': 0.97}\n",
      "** 16 weeks params **\n",
      "{'cv': 10,\n",
      " 'params': {'C': 100, 'max_iter': 100, 'penalty': 'l1', 'solver': 'liblinear'},\n",
      " 'score': 0.99}\n",
      "** All weeks params **\n"
     ]
    },
    {
     "name": "stderr",
     "output_type": "stream",
     "text": [
      "/Users/duncanw/repos/uflcod/miRNA-periodontal-disease/venv/lib/python3.11/site-packages/scipy/optimize/_linesearch.py:466: LineSearchWarning: The line search algorithm did not converge\n",
      "  warn('The line search algorithm did not converge', LineSearchWarning)\n",
      "/Users/duncanw/repos/uflcod/miRNA-periodontal-disease/venv/lib/python3.11/site-packages/scipy/optimize/_linesearch.py:314: LineSearchWarning: The line search algorithm did not converge\n",
      "  warn('The line search algorithm did not converge', LineSearchWarning)\n",
      "/Users/duncanw/repos/uflcod/miRNA-periodontal-disease/venv/lib/python3.11/site-packages/scipy/optimize/_linesearch.py:466: LineSearchWarning: The line search algorithm did not converge\n",
      "  warn('The line search algorithm did not converge', LineSearchWarning)\n",
      "/Users/duncanw/repos/uflcod/miRNA-periodontal-disease/venv/lib/python3.11/site-packages/scipy/optimize/_linesearch.py:314: LineSearchWarning: The line search algorithm did not converge\n",
      "  warn('The line search algorithm did not converge', LineSearchWarning)\n",
      "/Users/duncanw/repos/uflcod/miRNA-periodontal-disease/venv/lib/python3.11/site-packages/scipy/optimize/_linesearch.py:466: LineSearchWarning: The line search algorithm did not converge\n",
      "  warn('The line search algorithm did not converge', LineSearchWarning)\n",
      "/Users/duncanw/repos/uflcod/miRNA-periodontal-disease/venv/lib/python3.11/site-packages/scipy/optimize/_linesearch.py:314: LineSearchWarning: The line search algorithm did not converge\n",
      "  warn('The line search algorithm did not converge', LineSearchWarning)\n",
      "/Users/duncanw/repos/uflcod/miRNA-periodontal-disease/venv/lib/python3.11/site-packages/scipy/optimize/_linesearch.py:466: LineSearchWarning: The line search algorithm did not converge\n",
      "  warn('The line search algorithm did not converge', LineSearchWarning)\n",
      "/Users/duncanw/repos/uflcod/miRNA-periodontal-disease/venv/lib/python3.11/site-packages/scipy/optimize/_linesearch.py:314: LineSearchWarning: The line search algorithm did not converge\n",
      "  warn('The line search algorithm did not converge', LineSearchWarning)\n",
      "/Users/duncanw/repos/uflcod/miRNA-periodontal-disease/venv/lib/python3.11/site-packages/scipy/optimize/_linesearch.py:466: LineSearchWarning: The line search algorithm did not converge\n",
      "  warn('The line search algorithm did not converge', LineSearchWarning)\n",
      "/Users/duncanw/repos/uflcod/miRNA-periodontal-disease/venv/lib/python3.11/site-packages/scipy/optimize/_linesearch.py:314: LineSearchWarning: The line search algorithm did not converge\n",
      "  warn('The line search algorithm did not converge', LineSearchWarning)\n",
      "/Users/duncanw/repos/uflcod/miRNA-periodontal-disease/venv/lib/python3.11/site-packages/scipy/optimize/_linesearch.py:466: LineSearchWarning: The line search algorithm did not converge\n",
      "  warn('The line search algorithm did not converge', LineSearchWarning)\n",
      "/Users/duncanw/repos/uflcod/miRNA-periodontal-disease/venv/lib/python3.11/site-packages/scipy/optimize/_linesearch.py:314: LineSearchWarning: The line search algorithm did not converge\n",
      "  warn('The line search algorithm did not converge', LineSearchWarning)\n",
      "/Users/duncanw/repos/uflcod/miRNA-periodontal-disease/venv/lib/python3.11/site-packages/scipy/optimize/_linesearch.py:466: LineSearchWarning: The line search algorithm did not converge\n",
      "  warn('The line search algorithm did not converge', LineSearchWarning)\n",
      "/Users/duncanw/repos/uflcod/miRNA-periodontal-disease/venv/lib/python3.11/site-packages/scipy/optimize/_linesearch.py:314: LineSearchWarning: The line search algorithm did not converge\n",
      "  warn('The line search algorithm did not converge', LineSearchWarning)\n"
     ]
    },
    {
     "name": "stdout",
     "output_type": "stream",
     "text": [
      "{'cv': 5,\n",
      " 'params': {'C': 1000, 'max_iter': 150, 'penalty': 'l1', 'solver': 'liblinear'},\n",
      " 'score': 0.97}\n"
     ]
    }
   ],
   "source": [
    "cv_range = [3, 5, 10]\n",
    "clf = LogisticRegression\n",
    "\n",
    "print('** 8 weeks params **')\n",
    "params_8_weeks_cv = \\\n",
    "    param_search_cv(\n",
    "        param_grid, X_8_weeks, y_8_weeks, clf, cvs=cv_range, search_type='grid', print_best=True)\n",
    "\n",
    "print('** 16 weeks params **')\n",
    "params_16_weeks_cv = \\\n",
    "    param_search_cv(\n",
    "        param_grid, X_16_weeks, y_16_weeks, clf, cvs=cv_range, search_type='grid', print_best=True)\n",
    "\n",
    "print('** All weeks params **')\n",
    "params_8_weeks_cv = \\\n",
    "    param_search_cv(\n",
    "        param_grid, X_all_weeks, y_all_weeks, clf, cvs=cv_range, search_type='grid', print_best=True)"
   ]
  },
  {
   "cell_type": "markdown",
   "id": "7e154082-e87c-4722-b062-e976c3248361",
   "metadata": {},
   "source": [
    "### assign best params"
   ]
  },
  {
   "cell_type": "code",
   "execution_count": 13,
   "id": "de2cfada-6e73-4653-bc76-7cda051231a1",
   "metadata": {
    "ExecuteTime": {
     "end_time": "2023-11-05T04:28:58.995118Z",
     "start_time": "2023-11-05T04:28:58.938614Z"
    }
   },
   "outputs": [],
   "source": [
    "params_8_weeks = {'C': 0.1, 'max_iter': 50, 'penalty': 'l2', 'solver': 'newton-cg'}\n",
    " \n",
    "params_16_weeks = {'C': 10, 'max_iter': 50, 'penalty': 'l2', 'solver': 'newton-cg'}\n",
    "\n",
    "params_all_weeks = {'C': 10, 'max_iter': 100, 'penalty': 'l2', 'solver': 'lbfgs'}"
   ]
  },
  {
   "cell_type": "markdown",
   "id": "8fa8b476-c3bc-4539-8f78-ad1881c8c7b7",
   "metadata": {},
   "source": [
    "---"
   ]
  },
  {
   "cell_type": "markdown",
   "id": "3aacfcbd-6878-4b2a-a046-c7f1095eb18c",
   "metadata": {},
   "source": [
    "### compute Logistic Regression models"
   ]
  },
  {
   "cell_type": "code",
   "execution_count": 14,
   "id": "810316c5-21c8-4695-8d3b-9d59aa9f0914",
   "metadata": {
    "ExecuteTime": {
     "end_time": "2023-11-05T04:29:04.132966Z",
     "start_time": "2023-11-05T04:29:03.833374Z"
    }
   },
   "outputs": [],
   "source": [
    "model_8_weeks = LogisticRegression(**params_8_weeks).fit(X_8_weeks, y_8_weeks)\n",
    "model_16_weeks = LogisticRegression(**params_16_weeks).fit(X_16_weeks, y_16_weeks)\n",
    "model_all_weeks = LogisticRegression(**params_all_weeks).fit(X_all_weeks, y_all_weeks)"
   ]
  },
  {
   "cell_type": "code",
   "execution_count": 15,
   "id": "07a4b0b0-5eca-49c4-80e6-044fb1753356",
   "metadata": {},
   "outputs": [
    {
     "name": "stdout",
     "output_type": "stream",
     "text": [
      "model_8_weeks f1 score: 1.0\n",
      "model_16_weeks f1 score: 1.0\n",
      "model_all_weeks f1 score: 0.9847715736040609\n"
     ]
    }
   ],
   "source": [
    "print ('model_8_weeks', 'f1 score:', f1_score(y_8_weeks, model_8_weeks.predict(X_8_weeks)))\n",
    "print ('model_16_weeks', 'f1 score:', f1_score(y_16_weeks, model_16_weeks.predict(X_16_weeks)))\n",
    "print ('model_all_weeks', 'f1 score:', f1_score(y_all_weeks, model_all_weeks.predict(X_all_weeks)))"
   ]
  },
  {
   "cell_type": "markdown",
   "id": "0807f0a9-0cbc-43a3-aa3a-b58fc7776ddc",
   "metadata": {},
   "source": [
    "---"
   ]
  },
  {
   "cell_type": "markdown",
   "id": "818584ac-7a13-4186-942f-39730edd208a",
   "metadata": {},
   "source": [
    "### compute SHAP values (used for explainablity)"
   ]
  },
  {
   "cell_type": "code",
   "execution_count": 16,
   "id": "d72d11ab-9810-48ea-a78c-5a9009b02233",
   "metadata": {
    "ExecuteTime": {
     "end_time": "2023-11-05T04:30:47.873744Z",
     "start_time": "2023-11-05T04:30:47.824891Z"
    }
   },
   "outputs": [],
   "source": [
    "# need to change int and bool to classes int_ and bool_ to handle error 'numpy' has no attribute 'int'/'bool'/etc.\n",
    "np.bool = np.bool_\n",
    "np.int = np.int_\n",
    "np.float = np.float_"
   ]
  },
  {
   "cell_type": "code",
   "execution_count": 21,
   "id": "9332f233-eff3-4b7c-8380-13bca482da2b",
   "metadata": {},
   "outputs": [
    {
     "data": {
      "text/html": [
       "<div>\n",
       "<style scoped>\n",
       "    .dataframe tbody tr th:only-of-type {\n",
       "        vertical-align: middle;\n",
       "    }\n",
       "\n",
       "    .dataframe tbody tr th {\n",
       "        vertical-align: top;\n",
       "    }\n",
       "\n",
       "    .dataframe thead th {\n",
       "        text-align: right;\n",
       "    }\n",
       "</style>\n",
       "<table border=\"1\" class=\"dataframe\">\n",
       "  <thead>\n",
       "    <tr style=\"text-align: right;\">\n",
       "      <th></th>\n",
       "      <th>miR-200b</th>\n",
       "      <th>miR-300</th>\n",
       "      <th>miR-125a-3p</th>\n",
       "      <th>miR-16</th>\n",
       "      <th>miR-669m</th>\n",
       "      <th>miR-192</th>\n",
       "      <th>miR-1907</th>\n",
       "      <th>miR-290-3p</th>\n",
       "      <th>miR-682</th>\n",
       "      <th>miR-491</th>\n",
       "      <th>...</th>\n",
       "      <th>miR-464</th>\n",
       "      <th>miR-669a</th>\n",
       "      <th>miR-453</th>\n",
       "      <th>miR-1932</th>\n",
       "      <th>miR-M1-1</th>\n",
       "      <th>miR-1894-3p</th>\n",
       "      <th>miR-715</th>\n",
       "      <th>miR-M1-8</th>\n",
       "      <th>miR-201</th>\n",
       "      <th>miR-466i</th>\n",
       "    </tr>\n",
       "  </thead>\n",
       "  <tbody>\n",
       "    <tr>\n",
       "      <th>8</th>\n",
       "      <td>1182</td>\n",
       "      <td>177</td>\n",
       "      <td>152</td>\n",
       "      <td>12288</td>\n",
       "      <td>25</td>\n",
       "      <td>113</td>\n",
       "      <td>19</td>\n",
       "      <td>120</td>\n",
       "      <td>122</td>\n",
       "      <td>84</td>\n",
       "      <td>...</td>\n",
       "      <td>103</td>\n",
       "      <td>157</td>\n",
       "      <td>10</td>\n",
       "      <td>17</td>\n",
       "      <td>93</td>\n",
       "      <td>22</td>\n",
       "      <td>23</td>\n",
       "      <td>145</td>\n",
       "      <td>78</td>\n",
       "      <td>22</td>\n",
       "    </tr>\n",
       "    <tr>\n",
       "      <th>1</th>\n",
       "      <td>279</td>\n",
       "      <td>108</td>\n",
       "      <td>109</td>\n",
       "      <td>4899</td>\n",
       "      <td>15</td>\n",
       "      <td>90</td>\n",
       "      <td>14</td>\n",
       "      <td>104</td>\n",
       "      <td>84</td>\n",
       "      <td>86</td>\n",
       "      <td>...</td>\n",
       "      <td>73</td>\n",
       "      <td>100</td>\n",
       "      <td>16</td>\n",
       "      <td>11</td>\n",
       "      <td>68</td>\n",
       "      <td>16</td>\n",
       "      <td>20</td>\n",
       "      <td>102</td>\n",
       "      <td>51</td>\n",
       "      <td>26</td>\n",
       "    </tr>\n",
       "    <tr>\n",
       "      <th>0</th>\n",
       "      <td>451</td>\n",
       "      <td>138</td>\n",
       "      <td>133</td>\n",
       "      <td>17007</td>\n",
       "      <td>37</td>\n",
       "      <td>119</td>\n",
       "      <td>25</td>\n",
       "      <td>126</td>\n",
       "      <td>100</td>\n",
       "      <td>86</td>\n",
       "      <td>...</td>\n",
       "      <td>81</td>\n",
       "      <td>123</td>\n",
       "      <td>15</td>\n",
       "      <td>22</td>\n",
       "      <td>100</td>\n",
       "      <td>25</td>\n",
       "      <td>29</td>\n",
       "      <td>120</td>\n",
       "      <td>87</td>\n",
       "      <td>23</td>\n",
       "    </tr>\n",
       "    <tr>\n",
       "      <th>9</th>\n",
       "      <td>311</td>\n",
       "      <td>144</td>\n",
       "      <td>158</td>\n",
       "      <td>8620</td>\n",
       "      <td>20</td>\n",
       "      <td>136</td>\n",
       "      <td>31</td>\n",
       "      <td>126</td>\n",
       "      <td>128</td>\n",
       "      <td>109</td>\n",
       "      <td>...</td>\n",
       "      <td>109</td>\n",
       "      <td>139</td>\n",
       "      <td>22</td>\n",
       "      <td>20</td>\n",
       "      <td>103</td>\n",
       "      <td>33</td>\n",
       "      <td>26</td>\n",
       "      <td>155</td>\n",
       "      <td>87</td>\n",
       "      <td>23</td>\n",
       "    </tr>\n",
       "    <tr>\n",
       "      <th>4</th>\n",
       "      <td>191</td>\n",
       "      <td>85</td>\n",
       "      <td>92</td>\n",
       "      <td>7181</td>\n",
       "      <td>19</td>\n",
       "      <td>62</td>\n",
       "      <td>11</td>\n",
       "      <td>78</td>\n",
       "      <td>61</td>\n",
       "      <td>41</td>\n",
       "      <td>...</td>\n",
       "      <td>52</td>\n",
       "      <td>76</td>\n",
       "      <td>13</td>\n",
       "      <td>18</td>\n",
       "      <td>48</td>\n",
       "      <td>24</td>\n",
       "      <td>10</td>\n",
       "      <td>87</td>\n",
       "      <td>40</td>\n",
       "      <td>27</td>\n",
       "    </tr>\n",
       "    <tr>\n",
       "      <th>9</th>\n",
       "      <td>381</td>\n",
       "      <td>174</td>\n",
       "      <td>172</td>\n",
       "      <td>11203</td>\n",
       "      <td>31</td>\n",
       "      <td>175</td>\n",
       "      <td>22</td>\n",
       "      <td>181</td>\n",
       "      <td>153</td>\n",
       "      <td>122</td>\n",
       "      <td>...</td>\n",
       "      <td>136</td>\n",
       "      <td>163</td>\n",
       "      <td>25</td>\n",
       "      <td>12</td>\n",
       "      <td>140</td>\n",
       "      <td>22</td>\n",
       "      <td>26</td>\n",
       "      <td>188</td>\n",
       "      <td>142</td>\n",
       "      <td>21</td>\n",
       "    </tr>\n",
       "    <tr>\n",
       "      <th>2</th>\n",
       "      <td>205</td>\n",
       "      <td>121</td>\n",
       "      <td>105</td>\n",
       "      <td>13658</td>\n",
       "      <td>35</td>\n",
       "      <td>81</td>\n",
       "      <td>13</td>\n",
       "      <td>90</td>\n",
       "      <td>60</td>\n",
       "      <td>53</td>\n",
       "      <td>...</td>\n",
       "      <td>58</td>\n",
       "      <td>120</td>\n",
       "      <td>28</td>\n",
       "      <td>9</td>\n",
       "      <td>75</td>\n",
       "      <td>36</td>\n",
       "      <td>30</td>\n",
       "      <td>82</td>\n",
       "      <td>50</td>\n",
       "      <td>29</td>\n",
       "    </tr>\n",
       "    <tr>\n",
       "      <th>8</th>\n",
       "      <td>1182</td>\n",
       "      <td>177</td>\n",
       "      <td>152</td>\n",
       "      <td>12288</td>\n",
       "      <td>25</td>\n",
       "      <td>113</td>\n",
       "      <td>19</td>\n",
       "      <td>120</td>\n",
       "      <td>122</td>\n",
       "      <td>84</td>\n",
       "      <td>...</td>\n",
       "      <td>103</td>\n",
       "      <td>157</td>\n",
       "      <td>10</td>\n",
       "      <td>17</td>\n",
       "      <td>93</td>\n",
       "      <td>22</td>\n",
       "      <td>23</td>\n",
       "      <td>145</td>\n",
       "      <td>78</td>\n",
       "      <td>22</td>\n",
       "    </tr>\n",
       "    <tr>\n",
       "      <th>5</th>\n",
       "      <td>351</td>\n",
       "      <td>126</td>\n",
       "      <td>115</td>\n",
       "      <td>16355</td>\n",
       "      <td>39</td>\n",
       "      <td>88</td>\n",
       "      <td>16</td>\n",
       "      <td>116</td>\n",
       "      <td>81</td>\n",
       "      <td>71</td>\n",
       "      <td>...</td>\n",
       "      <td>61</td>\n",
       "      <td>131</td>\n",
       "      <td>14</td>\n",
       "      <td>18</td>\n",
       "      <td>69</td>\n",
       "      <td>27</td>\n",
       "      <td>27</td>\n",
       "      <td>96</td>\n",
       "      <td>60</td>\n",
       "      <td>27</td>\n",
       "    </tr>\n",
       "    <tr>\n",
       "      <th>4</th>\n",
       "      <td>210</td>\n",
       "      <td>131</td>\n",
       "      <td>111</td>\n",
       "      <td>4964</td>\n",
       "      <td>22</td>\n",
       "      <td>110</td>\n",
       "      <td>17</td>\n",
       "      <td>107</td>\n",
       "      <td>92</td>\n",
       "      <td>75</td>\n",
       "      <td>...</td>\n",
       "      <td>86</td>\n",
       "      <td>138</td>\n",
       "      <td>13</td>\n",
       "      <td>10</td>\n",
       "      <td>78</td>\n",
       "      <td>15</td>\n",
       "      <td>18</td>\n",
       "      <td>138</td>\n",
       "      <td>63</td>\n",
       "      <td>19</td>\n",
       "    </tr>\n",
       "    <tr>\n",
       "      <th>3</th>\n",
       "      <td>307</td>\n",
       "      <td>108</td>\n",
       "      <td>120</td>\n",
       "      <td>5619</td>\n",
       "      <td>20</td>\n",
       "      <td>93</td>\n",
       "      <td>22</td>\n",
       "      <td>92</td>\n",
       "      <td>85</td>\n",
       "      <td>66</td>\n",
       "      <td>...</td>\n",
       "      <td>78</td>\n",
       "      <td>109</td>\n",
       "      <td>14</td>\n",
       "      <td>14</td>\n",
       "      <td>75</td>\n",
       "      <td>16</td>\n",
       "      <td>19</td>\n",
       "      <td>83</td>\n",
       "      <td>55</td>\n",
       "      <td>23</td>\n",
       "    </tr>\n",
       "    <tr>\n",
       "      <th>0</th>\n",
       "      <td>451</td>\n",
       "      <td>138</td>\n",
       "      <td>133</td>\n",
       "      <td>17007</td>\n",
       "      <td>37</td>\n",
       "      <td>119</td>\n",
       "      <td>25</td>\n",
       "      <td>126</td>\n",
       "      <td>100</td>\n",
       "      <td>86</td>\n",
       "      <td>...</td>\n",
       "      <td>81</td>\n",
       "      <td>123</td>\n",
       "      <td>15</td>\n",
       "      <td>22</td>\n",
       "      <td>100</td>\n",
       "      <td>25</td>\n",
       "      <td>29</td>\n",
       "      <td>120</td>\n",
       "      <td>87</td>\n",
       "      <td>23</td>\n",
       "    </tr>\n",
       "    <tr>\n",
       "      <th>4</th>\n",
       "      <td>191</td>\n",
       "      <td>85</td>\n",
       "      <td>92</td>\n",
       "      <td>7181</td>\n",
       "      <td>19</td>\n",
       "      <td>62</td>\n",
       "      <td>11</td>\n",
       "      <td>78</td>\n",
       "      <td>61</td>\n",
       "      <td>41</td>\n",
       "      <td>...</td>\n",
       "      <td>52</td>\n",
       "      <td>76</td>\n",
       "      <td>13</td>\n",
       "      <td>18</td>\n",
       "      <td>48</td>\n",
       "      <td>24</td>\n",
       "      <td>10</td>\n",
       "      <td>87</td>\n",
       "      <td>40</td>\n",
       "      <td>27</td>\n",
       "    </tr>\n",
       "    <tr>\n",
       "      <th>4</th>\n",
       "      <td>191</td>\n",
       "      <td>85</td>\n",
       "      <td>92</td>\n",
       "      <td>7181</td>\n",
       "      <td>19</td>\n",
       "      <td>62</td>\n",
       "      <td>11</td>\n",
       "      <td>78</td>\n",
       "      <td>61</td>\n",
       "      <td>41</td>\n",
       "      <td>...</td>\n",
       "      <td>52</td>\n",
       "      <td>76</td>\n",
       "      <td>13</td>\n",
       "      <td>18</td>\n",
       "      <td>48</td>\n",
       "      <td>24</td>\n",
       "      <td>10</td>\n",
       "      <td>87</td>\n",
       "      <td>40</td>\n",
       "      <td>27</td>\n",
       "    </tr>\n",
       "    <tr>\n",
       "      <th>8</th>\n",
       "      <td>237</td>\n",
       "      <td>109</td>\n",
       "      <td>116</td>\n",
       "      <td>5850</td>\n",
       "      <td>18</td>\n",
       "      <td>112</td>\n",
       "      <td>27</td>\n",
       "      <td>99</td>\n",
       "      <td>83</td>\n",
       "      <td>77</td>\n",
       "      <td>...</td>\n",
       "      <td>103</td>\n",
       "      <td>123</td>\n",
       "      <td>21</td>\n",
       "      <td>14</td>\n",
       "      <td>106</td>\n",
       "      <td>19</td>\n",
       "      <td>23</td>\n",
       "      <td>141</td>\n",
       "      <td>90</td>\n",
       "      <td>23</td>\n",
       "    </tr>\n",
       "    <tr>\n",
       "      <th>3</th>\n",
       "      <td>307</td>\n",
       "      <td>108</td>\n",
       "      <td>120</td>\n",
       "      <td>5619</td>\n",
       "      <td>20</td>\n",
       "      <td>93</td>\n",
       "      <td>22</td>\n",
       "      <td>92</td>\n",
       "      <td>85</td>\n",
       "      <td>66</td>\n",
       "      <td>...</td>\n",
       "      <td>78</td>\n",
       "      <td>109</td>\n",
       "      <td>14</td>\n",
       "      <td>14</td>\n",
       "      <td>75</td>\n",
       "      <td>16</td>\n",
       "      <td>19</td>\n",
       "      <td>83</td>\n",
       "      <td>55</td>\n",
       "      <td>23</td>\n",
       "    </tr>\n",
       "    <tr>\n",
       "      <th>1</th>\n",
       "      <td>279</td>\n",
       "      <td>108</td>\n",
       "      <td>109</td>\n",
       "      <td>4899</td>\n",
       "      <td>15</td>\n",
       "      <td>90</td>\n",
       "      <td>14</td>\n",
       "      <td>104</td>\n",
       "      <td>84</td>\n",
       "      <td>86</td>\n",
       "      <td>...</td>\n",
       "      <td>73</td>\n",
       "      <td>100</td>\n",
       "      <td>16</td>\n",
       "      <td>11</td>\n",
       "      <td>68</td>\n",
       "      <td>16</td>\n",
       "      <td>20</td>\n",
       "      <td>102</td>\n",
       "      <td>51</td>\n",
       "      <td>26</td>\n",
       "    </tr>\n",
       "    <tr>\n",
       "      <th>0</th>\n",
       "      <td>451</td>\n",
       "      <td>138</td>\n",
       "      <td>133</td>\n",
       "      <td>17007</td>\n",
       "      <td>37</td>\n",
       "      <td>119</td>\n",
       "      <td>25</td>\n",
       "      <td>126</td>\n",
       "      <td>100</td>\n",
       "      <td>86</td>\n",
       "      <td>...</td>\n",
       "      <td>81</td>\n",
       "      <td>123</td>\n",
       "      <td>15</td>\n",
       "      <td>22</td>\n",
       "      <td>100</td>\n",
       "      <td>25</td>\n",
       "      <td>29</td>\n",
       "      <td>120</td>\n",
       "      <td>87</td>\n",
       "      <td>23</td>\n",
       "    </tr>\n",
       "    <tr>\n",
       "      <th>6</th>\n",
       "      <td>252</td>\n",
       "      <td>180</td>\n",
       "      <td>167</td>\n",
       "      <td>13474</td>\n",
       "      <td>22</td>\n",
       "      <td>150</td>\n",
       "      <td>21</td>\n",
       "      <td>136</td>\n",
       "      <td>122</td>\n",
       "      <td>92</td>\n",
       "      <td>...</td>\n",
       "      <td>111</td>\n",
       "      <td>174</td>\n",
       "      <td>20</td>\n",
       "      <td>16</td>\n",
       "      <td>112</td>\n",
       "      <td>13</td>\n",
       "      <td>19</td>\n",
       "      <td>183</td>\n",
       "      <td>81</td>\n",
       "      <td>22</td>\n",
       "    </tr>\n",
       "    <tr>\n",
       "      <th>5</th>\n",
       "      <td>229</td>\n",
       "      <td>101</td>\n",
       "      <td>114</td>\n",
       "      <td>10802</td>\n",
       "      <td>19</td>\n",
       "      <td>70</td>\n",
       "      <td>14</td>\n",
       "      <td>107</td>\n",
       "      <td>71</td>\n",
       "      <td>72</td>\n",
       "      <td>...</td>\n",
       "      <td>59</td>\n",
       "      <td>73</td>\n",
       "      <td>25</td>\n",
       "      <td>16</td>\n",
       "      <td>65</td>\n",
       "      <td>27</td>\n",
       "      <td>19</td>\n",
       "      <td>92</td>\n",
       "      <td>49</td>\n",
       "      <td>21</td>\n",
       "    </tr>\n",
       "  </tbody>\n",
       "</table>\n",
       "<p>20 rows × 600 columns</p>\n",
       "</div>"
      ],
      "text/plain": [
       "   miR-200b  miR-300  miR-125a-3p  miR-16  miR-669m  miR-192  miR-1907  \\\n",
       "8      1182      177          152   12288        25      113        19   \n",
       "1       279      108          109    4899        15       90        14   \n",
       "0       451      138          133   17007        37      119        25   \n",
       "9       311      144          158    8620        20      136        31   \n",
       "4       191       85           92    7181        19       62        11   \n",
       "9       381      174          172   11203        31      175        22   \n",
       "2       205      121          105   13658        35       81        13   \n",
       "8      1182      177          152   12288        25      113        19   \n",
       "5       351      126          115   16355        39       88        16   \n",
       "4       210      131          111    4964        22      110        17   \n",
       "3       307      108          120    5619        20       93        22   \n",
       "0       451      138          133   17007        37      119        25   \n",
       "4       191       85           92    7181        19       62        11   \n",
       "4       191       85           92    7181        19       62        11   \n",
       "8       237      109          116    5850        18      112        27   \n",
       "3       307      108          120    5619        20       93        22   \n",
       "1       279      108          109    4899        15       90        14   \n",
       "0       451      138          133   17007        37      119        25   \n",
       "6       252      180          167   13474        22      150        21   \n",
       "5       229      101          114   10802        19       70        14   \n",
       "\n",
       "   miR-290-3p  miR-682  miR-491  ...  miR-464  miR-669a  miR-453  miR-1932  \\\n",
       "8         120      122       84  ...      103       157       10        17   \n",
       "1         104       84       86  ...       73       100       16        11   \n",
       "0         126      100       86  ...       81       123       15        22   \n",
       "9         126      128      109  ...      109       139       22        20   \n",
       "4          78       61       41  ...       52        76       13        18   \n",
       "9         181      153      122  ...      136       163       25        12   \n",
       "2          90       60       53  ...       58       120       28         9   \n",
       "8         120      122       84  ...      103       157       10        17   \n",
       "5         116       81       71  ...       61       131       14        18   \n",
       "4         107       92       75  ...       86       138       13        10   \n",
       "3          92       85       66  ...       78       109       14        14   \n",
       "0         126      100       86  ...       81       123       15        22   \n",
       "4          78       61       41  ...       52        76       13        18   \n",
       "4          78       61       41  ...       52        76       13        18   \n",
       "8          99       83       77  ...      103       123       21        14   \n",
       "3          92       85       66  ...       78       109       14        14   \n",
       "1         104       84       86  ...       73       100       16        11   \n",
       "0         126      100       86  ...       81       123       15        22   \n",
       "6         136      122       92  ...      111       174       20        16   \n",
       "5         107       71       72  ...       59        73       25        16   \n",
       "\n",
       "   miR-M1-1  miR-1894-3p  miR-715  miR-M1-8  miR-201  miR-466i  \n",
       "8        93           22       23       145       78        22  \n",
       "1        68           16       20       102       51        26  \n",
       "0       100           25       29       120       87        23  \n",
       "9       103           33       26       155       87        23  \n",
       "4        48           24       10        87       40        27  \n",
       "9       140           22       26       188      142        21  \n",
       "2        75           36       30        82       50        29  \n",
       "8        93           22       23       145       78        22  \n",
       "5        69           27       27        96       60        27  \n",
       "4        78           15       18       138       63        19  \n",
       "3        75           16       19        83       55        23  \n",
       "0       100           25       29       120       87        23  \n",
       "4        48           24       10        87       40        27  \n",
       "4        48           24       10        87       40        27  \n",
       "8       106           19       23       141       90        23  \n",
       "3        75           16       19        83       55        23  \n",
       "1        68           16       20       102       51        26  \n",
       "0       100           25       29       120       87        23  \n",
       "6       112           13       19       183       81        22  \n",
       "5        65           27       19        92       49        21  \n",
       "\n",
       "[20 rows x 600 columns]"
      ]
     },
     "execution_count": 21,
     "metadata": {},
     "output_type": "execute_result"
    }
   ],
   "source": [
    "shap.sample(X_8_weeks, nsamples=20, random_state=1989)"
   ]
  },
  {
   "cell_type": "code",
   "execution_count": 24,
   "id": "9203973c-8d10-4771-8a65-ff03c4dbe25d",
   "metadata": {},
   "outputs": [
    {
     "data": {
      "text/plain": [
       "(100, 600)"
      ]
     },
     "execution_count": 24,
     "metadata": {},
     "output_type": "execute_result"
    }
   ],
   "source": [
    "X_8_weeks.shape"
   ]
  },
  {
   "cell_type": "code",
   "execution_count": 23,
   "id": "9f7e846b-22e0-4aba-999e-becd31bdd2a5",
   "metadata": {
    "ExecuteTime": {
     "end_time": "2023-11-05T04:32:18.091061Z",
     "start_time": "2023-11-05T04:32:17.993657Z"
    }
   },
   "outputs": [
    {
     "data": {
      "application/vnd.jupyter.widget-view+json": {
       "model_id": "489b3381e61c455a86fefdf746baee36",
       "version_major": 2,
       "version_minor": 0
      },
      "text/plain": [
       "  0%|          | 0/100 [00:00<?, ?it/s]"
      ]
     },
     "metadata": {},
     "output_type": "display_data"
    }
   ],
   "source": [
    "explainer_8_weeks = shap.KernelExplainer(\n",
    "    model_8_weeks.predict, shap.sample(X_8_weeks, nsamples=25, random_state=1989), feature_names=X_8_weeks.columns.tolist()\n",
    ")\n",
    "shap_values_8_weeks = explainer_8_weeks(X_8_weeks)\n",
    "\n",
    "# explainer_16_weeks = shap.KernelExplainer(\n",
    "#     model_16_weeks.predict, X_16_weeks, feature_names=X_16_weeks.columns.tolist()\n",
    "# )\n",
    "# shap_values_16_weeks = explainer_16_weeks(X_16_weeks)\n",
    "\n",
    "# explainer_all_weeks = shap.KernelExplainer(\n",
    "#     model_all_weeks.predict, X_all_weeks, feature_names=X_all_weeks.columns.tolist()\n",
    "# )\n",
    "# shap_values_all_weeks = explainer_all_weeks(X_all_weeks)"
   ]
  },
  {
   "cell_type": "markdown",
   "id": "8eb4268f-0ca9-4411-9db8-032e94471caf",
   "metadata": {},
   "source": [
    "---"
   ]
  },
  {
   "cell_type": "markdown",
   "id": "3338c84f-0c31-45b0-97ff-5f411c64d1ad",
   "metadata": {},
   "source": [
    "## Bar and summary plots of feature importance"
   ]
  },
  {
   "cell_type": "code",
   "execution_count": null,
   "id": "f39f8f3b-af23-458f-988d-76da3ae179f0",
   "metadata": {
    "ExecuteTime": {
     "end_time": "2023-11-05T04:32:44.151843Z",
     "start_time": "2023-11-05T04:32:42.790595Z"
    }
   },
   "outputs": [],
   "source": [
    "plot_shap_importance_with_summary(\n",
    "    shap_values_8_weeks, \n",
    "    X_8_weeks, \n",
    "    title='',\n",
    "    save_fig=True,\n",
    "    file_name='all_pathogens_lr_SHAP_feature_importance_with_summary_8_weeks.png'\n",
    ")\n",
    "\n",
    "plot_shap_importance_with_summary(\n",
    "    shap_values_16_weeks, \n",
    "    X_16_weeks, \n",
    "    title='',\n",
    "    save_fig=True,\n",
    "    file_name='all_pathogens_lr_SHAP_feature_importance_with_summary_16_weeks.png'\n",
    ")\n",
    "\n",
    "plot_shap_importance_with_summary(\n",
    "    shap_values_all_weeks, \n",
    "    X_all_weeks, \n",
    "    title='',\n",
    "    supxlabel = 'SHAP value (impact on model output)',\n",
    "    save_fig=True,\n",
    "    file_name='all_pathogens_lr_SHAP_feature_importance_with_summary_all_weeks.png'\n",
    ")"
   ]
  },
  {
   "cell_type": "markdown",
   "id": "484fe3b1-9d31-4a69-b18f-2fa6e3dcc671",
   "metadata": {},
   "source": [
    "## SHAP heatmaps"
   ]
  },
  {
   "cell_type": "code",
   "execution_count": null,
   "id": "e25edc33-f8a3-45d1-9621-254f12272d9b",
   "metadata": {
    "ExecuteTime": {
     "end_time": "2023-11-05T04:33:06.922961Z",
     "start_time": "2023-11-05T04:33:05.684418Z"
    }
   },
   "outputs": [],
   "source": [
    "plot_shap_heatmap(\n",
    "    top_shap_values(shap_values_8_weeks), \n",
    "    \"SHAP Heatmap 8 Weeks\\nLogistic Regression\", \n",
    "    x_label='Instances',\n",
    "    save_fig=True,\n",
    "    file_name='all_pathogens_lr_SHAP_Heatmap_8_Weeks.png'\n",
    ")\n",
    "\n",
    "plot_shap_heatmap(\n",
    "    top_shap_values(shap_values_16_weeks), \n",
    "    \"SHAP Heatmap 16 Weeks\\nLogistic Regression\", \n",
    "    x_label='Instances',\n",
    "    save_fig=True,\n",
    "    file_name='all_pathogens_lr_SHAP_Heatmap_16_Weeks.png'\n",
    ")\n",
    "\n",
    "plot_shap_heatmap(\n",
    "    top_shap_values(shap_values_all_weeks), \n",
    "    \"SHAP Heatmap All Weeks\\nLogistic Regression\", \n",
    "    x_label='Instances',\n",
    "    save_fig=True,\n",
    "    file_name='all_pathogens_lr_SHAP_Heatmap_All_Weeks.png'\n",
    ")"
   ]
  },
  {
   "cell_type": "markdown",
   "id": "1bdd6635-3517-43f9-b583-66162c569a1a",
   "metadata": {},
   "source": [
    "## SHAP dependence plots"
   ]
  },
  {
   "cell_type": "code",
   "execution_count": null,
   "id": "f2a4b382-9668-463c-b42e-d17992ffa0b2",
   "metadata": {
    "ExecuteTime": {
     "end_time": "2023-11-05T04:33:25.104278Z",
     "start_time": "2023-11-05T04:33:23.874501Z"
    }
   },
   "outputs": [],
   "source": [
    "plot_shap_dependence(\n",
    "    shap_values_8_weeks, \n",
    "    X_8_weeks, \n",
    "    \"SHAP Dependence Plot 8 Weeks\\nLogistic Regression\", \n",
    "    save_fig=True,\n",
    "    file_name='all_pathogens_lr_SHAP_Dependence_Plot_8_Weeks.png'\n",
    ")\n",
    "\n",
    "plot_shap_dependence(\n",
    "    shap_values_16_weeks, \n",
    "    X_16_weeks, \n",
    "    \"SHAP Dependence Plot 16 Weeks\\nLogistic Regression\", \n",
    "    save_fig=True,\n",
    "    file_name='all_pathogens_lr_SHAP_Dependence_Plot_16_Weeks.png'\n",
    ")\n",
    "\n",
    "plot_shap_dependence(\n",
    "    shap_values_all_weeks, \n",
    "    X_all_weeks, \n",
    "    \"SHAP Dependence Plot All Weeks\\nLogistic Regression\", \n",
    "    save_fig=True,\n",
    "    file_name='all_pathogens_lr_SHAP_Dependence_Plot_All_Weeks.png'\n",
    ")"
   ]
  },
  {
   "cell_type": "code",
   "execution_count": null,
   "id": "812c5109-6c4c-4d04-be07-0b6e68a633bc",
   "metadata": {},
   "outputs": [],
   "source": []
  }
 ],
 "metadata": {
  "kernelspec": {
   "display_name": "Python 3 (ipykernel)",
   "language": "python",
   "name": "python3"
  },
  "language_info": {
   "codemirror_mode": {
    "name": "ipython",
    "version": 3
   },
   "file_extension": ".py",
   "mimetype": "text/x-python",
   "name": "python",
   "nbconvert_exporter": "python",
   "pygments_lexer": "ipython3",
   "version": "3.11.10"
  }
 },
 "nbformat": 4,
 "nbformat_minor": 5
}
