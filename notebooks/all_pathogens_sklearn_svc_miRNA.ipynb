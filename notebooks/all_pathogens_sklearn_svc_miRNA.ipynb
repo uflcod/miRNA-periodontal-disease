{
 "cells": [
  {
   "cell_type": "markdown",
   "id": "b07f9a8a-8b5d-4ef2-ab31-520e47ccd0d2",
   "metadata": {},
   "source": [
    "# C-Support Vector Classification miRNA\n",
    "Runs sklearn's [C-Support Vector Classification](https://scikit-learn.org/stable/modules/generated/sklearn.svm.SVC.html#sklearn.svm.SVC) on miRNA data.  \n",
    "\n",
    "Three datasets are analyzed using the RandomForest classifier:\n",
    "* Sham and infeceted mice from all weeks; i.e., 8 week and 16 week datasets are merged.\n",
    "* Sham and infected mice at 8 weeks.\n",
    "* Sham and infected mice at 16 weeks.\n",
    "\n",
    "In each dataset, there is a flag (named ‘infected’) that marks whether the mice came from the infected group or the sham group.  \n",
    "RandomForestClassifier's variable importance and SHAP values are then used to determine which miRNA variable was most important in each cohort dataset."
   ]
  },
  {
   "cell_type": "code",
   "execution_count": 1,
   "id": "f6ad5752-ea48-4c57-9d3a-620f633598a9",
   "metadata": {
    "ExecuteTime": {
     "end_time": "2023-11-05T04:55:24.447638Z",
     "start_time": "2023-11-05T04:55:24.138858Z"
    }
   },
   "outputs": [],
   "source": [
    "%load_ext autoreload\n",
    "%autoreload 2"
   ]
  },
  {
   "cell_type": "code",
   "execution_count": 2,
   "id": "86299249-0dbe-46f7-b025-f5eec0a6ee33",
   "metadata": {
    "ExecuteTime": {
     "end_time": "2023-11-05T04:55:24.757092Z",
     "start_time": "2023-11-05T04:55:24.713559Z"
    }
   },
   "outputs": [],
   "source": [
    "# trying to supress sklearn warning\n",
    "import os\n",
    "os.environ[\"PYTHONWARNINGS\"] = \"ignore::UserWarning\"\n",
    "import warnings\n",
    "warnings.filterwarnings('ignore')\n",
    "warnings.simplefilter(action='ignore', category=FutureWarning)"
   ]
  },
  {
   "cell_type": "code",
   "execution_count": 3,
   "id": "443dc93a-e54c-43df-882e-b0e40f060ae8",
   "metadata": {
    "ExecuteTime": {
     "end_time": "2023-11-05T04:55:26.870546Z",
     "start_time": "2023-11-05T04:55:26.838950Z"
    }
   },
   "outputs": [],
   "source": [
    "import pandas as pd\n",
    "import numpy as np\n",
    "import matplotlib.pyplot as plt\n",
    "import seaborn as sns\n",
    "\n",
    "import sklearn\n",
    "from sklearn.svm import SVC\n",
    "from sklearn.preprocessing import StandardScaler\n",
    "from sklearn.model_selection import \\\n",
    "    RandomizedSearchCV, GridSearchCV, RepeatedKFold, cross_val_score, train_test_split\n",
    "from sklearn.metrics import \\\n",
    "    accuracy_score, f1_score, recall_score, classification_report, \\\n",
    "    roc_auc_score, roc_curve, mean_absolute_error\n",
    "from IPython.display import display\n",
    "import random\n",
    "import shap\n",
    "\n",
    "from util import \\\n",
    "    make_mirna_nanostring_df, make_study_df, param_search_cv, \\\n",
    "    param_search, plot_shap_feature_importance, plot_xgb_feature_importance, \\\n",
    "    combine_shap_heatmaps, plot_shap_summary, plot_shap_heatmap, \\\n",
    "    plot_shap_dependence, plot_shap_importance_with_summary, top_shap_values"
   ]
  },
  {
   "cell_type": "code",
   "execution_count": 4,
   "id": "9e652391-7fd1-49d8-aa13-2527859cb9e0",
   "metadata": {
    "ExecuteTime": {
     "end_time": "2023-11-05T04:55:28.431176Z",
     "start_time": "2023-11-05T04:55:28.209121Z"
    }
   },
   "outputs": [
    {
     "name": "stdout",
     "output_type": "stream",
     "text": [
      "Python 3.13.0\n"
     ]
    }
   ],
   "source": [
    "! python --version"
   ]
  },
  {
   "cell_type": "code",
   "execution_count": 5,
   "id": "1459ffd5-2e30-443b-b983-5b98064d2c36",
   "metadata": {
    "ExecuteTime": {
     "end_time": "2023-11-05T04:55:29.535925Z",
     "start_time": "2023-11-05T04:55:29.474918Z"
    }
   },
   "outputs": [
    {
     "name": "stdout",
     "output_type": "stream",
     "text": [
      "sklearn version 1.3.0\n",
      "shap version 0.42.1\n"
     ]
    }
   ],
   "source": [
    "print('sklearn version', sklearn.__version__)\n",
    "print('shap version', shap.__version__)"
   ]
  },
  {
   "cell_type": "markdown",
   "id": "e5c11900-5366-4518-a9a3-6678d7c5adb0",
   "metadata": {},
   "source": [
    "---"
   ]
  },
  {
   "cell_type": "markdown",
   "id": "003edfa5-0509-4fe2-ba7a-49524f3d5c64",
   "metadata": {},
   "source": [
    "## load miRNA data"
   ]
  },
  {
   "cell_type": "code",
   "execution_count": 6,
   "id": "25e7cbcb-f082-4fd1-bcbe-6e09200da46d",
   "metadata": {
    "ExecuteTime": {
     "end_time": "2023-11-06T02:45:37.145569Z",
     "start_time": "2023-11-06T02:45:36.876433Z"
    }
   },
   "outputs": [
    {
     "data": {
      "text/plain": [
       "[('../data/Fusobacterium_nucleatum/8 weeks F. nucleatum infection.csv',\n",
       "  'inf_fn_8_weeks'),\n",
       " ('../data/Fusobacterium_nucleatum/8 weeks SHAM infection.csv',\n",
       "  'sham_fn_8_weeks'),\n",
       " ('../data/Fusobacterium_nucleatum/16 weeks F. nucleatum infection.csv',\n",
       "  'inf_fn_16_weeks'),\n",
       " ('../data/Fusobacterium_nucleatum/16 weeks SHAM infection.csv',\n",
       "  'sham_fn_16_weeks'),\n",
       " ('../data/Porphyromonas_gingivalis/8 weeks P. gingivalis NanoString Data.csv',\n",
       "  'inf_pg_8_weeks'),\n",
       " ('../data/Porphyromonas_gingivalis/8 weeks SHAM RAW data.csv',\n",
       "  'sham_pg_8_weeks'),\n",
       " ('../data/Porphyromonas_gingivalis/16 weeks P. gingivalis  NanoString Data.csv',\n",
       "  'inf_pg_16_weeks'),\n",
       " ('../data/Porphyromonas_gingivalis/16 weeks SHAM RAW data.csv',\n",
       "  'sham_pg_16_weeks'),\n",
       " ('../data/Streptococcus_gordonii/8 weeks S.gordonii infection.csv',\n",
       "  'inf_sg_8_weeks'),\n",
       " ('../data/Streptococcus_gordonii/8 weeks SHAM infection.csv',\n",
       "  'sham_sg_8_weeks'),\n",
       " ('../data/Streptococcus_gordonii/16 weeks S. gordonii infection.csv',\n",
       "  'inf_sg_16_weeks'),\n",
       " ('../data/Streptococcus_gordonii/16 weeks SHAM infection.csv',\n",
       "  'sham_sg_16_weeks'),\n",
       " ('../data/Tannerella_forsythia/8 weeks T. forsythia bacteria infected mice RAW data.csv',\n",
       "  'inf_tf_8_weeks'),\n",
       " ('../data/Tannerella_forsythia/8 weeks SHAM RAW data.csv', 'sham_tf_8_weeks'),\n",
       " ('../data/Tannerella_forsythia/16 weeks T. forsythia bacteria infected mice RAW data.csv',\n",
       "  'inf_tf_16_weeks'),\n",
       " ('../data/Tannerella_forsythia/16 weeks SHAM RAW data.csv',\n",
       "  'sham_tf_16_weeks'),\n",
       " ('../data/Treponema_denticola/8 weeks T. denticola bacteria infected mice RAW data.csv',\n",
       "  'inf_td_8_weeks'),\n",
       " ('../data/Treponema_denticola/8 weeks SHAM RAW data.csv', 'sham_td_8_weeks'),\n",
       " ('../data/Treponema_denticola/16 weeks T. denticola bacteria infected mice RAW data.csv',\n",
       "  'inf_td_16_weeks'),\n",
       " ('../data/Treponema_denticola/16 weeks SHAM RAW data.csv',\n",
       "  'sham_td_16_weeks')]"
      ]
     },
     "execution_count": 6,
     "metadata": {},
     "output_type": "execute_result"
    }
   ],
   "source": [
    "file_names = [\n",
    "    '../data/Fusobacterium_nucleatum/8 weeks F. nucleatum infection.csv',\n",
    "    '../data/Fusobacterium_nucleatum/8 weeks SHAM infection.csv',\n",
    "    '../data/Fusobacterium_nucleatum/16 weeks F. nucleatum infection.csv',\n",
    "    '../data/Fusobacterium_nucleatum/16 weeks SHAM infection.csv',\n",
    "    '../data/Porphyromonas_gingivalis/8 weeks P. gingivalis NanoString Data.csv',\n",
    "    '../data/Porphyromonas_gingivalis/8 weeks SHAM RAW data.csv',\n",
    "    '../data/Porphyromonas_gingivalis/16 weeks P. gingivalis  NanoString Data.csv',\n",
    "    '../data/Porphyromonas_gingivalis/16 weeks SHAM RAW data.csv',\n",
    "    '../data/Streptococcus_gordonii/8 weeks S.gordonii infection.csv',\n",
    "    '../data/Streptococcus_gordonii/8 weeks SHAM infection.csv',\n",
    "    '../data/Streptococcus_gordonii/16 weeks S. gordonii infection.csv',\n",
    "    '../data/Streptococcus_gordonii/16 weeks SHAM infection.csv',\n",
    "    '../data/Tannerella_forsythia/8 weeks T. forsythia bacteria infected mice RAW data.csv',\n",
    "    '../data/Tannerella_forsythia/8 weeks SHAM RAW data.csv',\n",
    "    '../data/Tannerella_forsythia/16 weeks T. forsythia bacteria infected mice RAW data.csv',\n",
    "    '../data/Tannerella_forsythia/16 weeks SHAM RAW data.csv',\n",
    "    '../data/Treponema_denticola/8 weeks T. denticola bacteria infected mice RAW data.csv',\n",
    "    '../data/Treponema_denticola/8 weeks SHAM RAW data.csv',\n",
    "    '../data/Treponema_denticola/16 weeks T. denticola bacteria infected mice RAW data.csv',\n",
    "    '../data/Treponema_denticola/16 weeks SHAM RAW data.csv'\n",
    "]\n",
    "cohort_names = [\n",
    "    'inf_fn_8_weeks', 'sham_fn_8_weeks', 'inf_fn_16_weeks', 'sham_fn_16_weeks',\n",
    "    'inf_pg_8_weeks', 'sham_pg_8_weeks', 'inf_pg_16_weeks', 'sham_pg_16_weeks',\n",
    "    'inf_sg_8_weeks', 'sham_sg_8_weeks', 'inf_sg_16_weeks', 'sham_sg_16_weeks',\n",
    "    'inf_tf_8_weeks', 'sham_tf_8_weeks', 'inf_tf_16_weeks', 'sham_tf_16_weeks',\n",
    "    'inf_td_8_weeks', 'sham_td_8_weeks', 'inf_td_16_weeks', 'sham_td_16_weeks'\n",
    "]\n",
    "list(zip(file_names, cohort_names))"
   ]
  },
  {
   "cell_type": "code",
   "execution_count": 7,
   "id": "3bb12a4a-11b3-4800-a51e-dca7356e7461",
   "metadata": {},
   "outputs": [
    {
     "data": {
      "text/plain": [
       "(200, 604)"
      ]
     },
     "execution_count": 7,
     "metadata": {},
     "output_type": "execute_result"
    }
   ],
   "source": [
    "miRNA_df = make_mirna_nanostring_df(file_names, cohort_names)\n",
    "miRNA_df.shape"
   ]
  },
  {
   "cell_type": "markdown",
   "id": "bd358419-2f7b-4b0c-928a-4dd4d05b8135",
   "metadata": {},
   "source": [
    "## create dataframes and X, y datasets"
   ]
  },
  {
   "cell_type": "code",
   "execution_count": 8,
   "id": "ade83856-151f-4b09-a416-68c6e8fac330",
   "metadata": {
    "ExecuteTime": {
     "end_time": "2023-11-05T04:55:34.975574Z",
     "start_time": "2023-11-05T04:55:34.900339Z"
    }
   },
   "outputs": [],
   "source": [
    "df_8_weeks = make_study_df(miRNA_df, cohort_str='8_weeks', infected_str='inf_')\n",
    "df_16_weeks = make_study_df(miRNA_df, cohort_str='16_weeks', infected_str='inf_')\n",
    "df_all_weeks = make_study_df(miRNA_df, infected_str='inf_')"
   ]
  },
  {
   "cell_type": "code",
   "execution_count": 9,
   "id": "0d67c33f-4ba1-4418-906e-169ea285fd68",
   "metadata": {
    "ExecuteTime": {
     "end_time": "2023-11-05T04:55:35.629431Z",
     "start_time": "2023-11-05T04:55:35.574080Z"
    }
   },
   "outputs": [],
   "source": [
    "X_8_weeks, y_8_weeks = df_8_weeks.drop('infected', axis=1), df_8_weeks['infected']\n",
    "X_16_weeks, y_16_weeks = df_16_weeks.drop('infected', axis=1), df_16_weeks['infected']\n",
    "X_all_weeks, y_all_weeks = df_all_weeks.drop('infected', axis=1), df_all_weeks['infected']"
   ]
  },
  {
   "cell_type": "markdown",
   "id": "6070383a-43fe-4367-89b3-8771b4f5091a",
   "metadata": {},
   "source": [
    "---"
   ]
  },
  {
   "cell_type": "markdown",
   "id": "8ca35e60-b82e-4037-86cd-5366f933a8d1",
   "metadata": {},
   "source": [
    "## search for best params"
   ]
  },
  {
   "cell_type": "code",
   "execution_count": 10,
   "id": "58da6dc3-4154-4c55-9d11-b13e9f4087b1",
   "metadata": {
    "ExecuteTime": {
     "end_time": "2023-11-05T04:55:40.182106Z",
     "start_time": "2023-11-05T04:55:40.117711Z"
    }
   },
   "outputs": [],
   "source": [
    "param_grid = {\n",
    "    'C': [0.1,1, 10, 100, 1000], \n",
    "    'gamma': ['scale', 1,0.1,0.01,0.001, 0.0001],\n",
    "    'kernel': ['rbf', 'poly', 'sigmoid']    \n",
    "}"
   ]
  },
  {
   "cell_type": "code",
   "execution_count": 11,
   "id": "c29d8f50-7487-42a0-a453-fa131b35a2a2",
   "metadata": {
    "ExecuteTime": {
     "end_time": "2023-11-05T04:55:43.931314Z",
     "start_time": "2023-11-05T04:55:43.875822Z"
    }
   },
   "outputs": [],
   "source": [
    "# used for testing single param search\n",
    "# params_8_weeks = \\\n",
    "#     param_search(param_grid, X_8_weeks, y_8_weeks, SVC, cv=5, search_type='grid')"
   ]
  },
  {
   "cell_type": "markdown",
   "id": "8700369e-4e99-47df-b952-adfa76cf5294",
   "metadata": {},
   "source": [
    "### run GridSearchCV to find best params."
   ]
  },
  {
   "cell_type": "code",
   "execution_count": 12,
   "id": "5f2d5edf-d0ff-493c-ac4a-e8943b719337",
   "metadata": {
    "ExecuteTime": {
     "end_time": "2023-11-05T06:49:50.046654Z",
     "start_time": "2023-11-05T06:40:21.138791Z"
    }
   },
   "outputs": [
    {
     "name": "stdout",
     "output_type": "stream",
     "text": [
      "** 8 weeks params **\n",
      "{'cv': 3, 'params': {'C': 1, 'gamma': 1, 'kernel': 'rbf'}, 'score': 1.0}\n",
      "** 16 weeks params **\n",
      "{'cv': 3, 'params': {'C': 1, 'gamma': 1, 'kernel': 'rbf'}, 'score': 1.0}\n",
      "** All weeks params **\n",
      "{'cv': 3, 'params': {'C': 1, 'gamma': 1, 'kernel': 'rbf'}, 'score': 1.0}\n"
     ]
    }
   ],
   "source": [
    "cv_range = [3, 5, 10]\n",
    "clf = SVC\n",
    "\n",
    "print('** 8 weeks params **')\n",
    "params_8_weeks_cv = \\\n",
    "    param_search_cv(\n",
    "        param_grid, X_8_weeks, y_8_weeks, clf, cvs=cv_range, search_type='grid', print_best=True)\n",
    "\n",
    "print('** 16 weeks params **')\n",
    "params_16_weeks_cv = \\\n",
    "    param_search_cv(\n",
    "        param_grid, X_16_weeks, y_16_weeks, clf, cvs=cv_range, search_type='grid', print_best=True)\n",
    "\n",
    "print('** All weeks params **')\n",
    "params_8_weeks_cv = \\\n",
    "    param_search_cv(\n",
    "        param_grid, X_all_weeks, y_all_weeks, clf, cvs=cv_range, search_type='grid', print_best=True)"
   ]
  },
  {
   "cell_type": "markdown",
   "id": "7e154082-e87c-4722-b062-e976c3248361",
   "metadata": {},
   "source": [
    "### assign best params"
   ]
  },
  {
   "cell_type": "code",
   "execution_count": 13,
   "id": "de2cfada-6e73-4653-bc76-7cda051231a1",
   "metadata": {
    "ExecuteTime": {
     "end_time": "2023-11-05T04:28:58.995118Z",
     "start_time": "2023-11-05T04:28:58.938614Z"
    }
   },
   "outputs": [],
   "source": [
    "params_8_weeks = {'C': 0.1, 'gamma': 1, 'kernel': 'poly'}\n",
    " \n",
    "params_16_weeks = {'C': 0.1, 'gamma': 1, 'kernel': 'poly'}\n",
    "\n",
    "params_all_weeks = {'C': 0.1, 'gamma': 1, 'kernel': 'poly'}"
   ]
  },
  {
   "cell_type": "markdown",
   "id": "8fa8b476-c3bc-4539-8f78-ad1881c8c7b7",
   "metadata": {},
   "source": [
    "---"
   ]
  },
  {
   "cell_type": "markdown",
   "id": "3aacfcbd-6878-4b2a-a046-c7f1095eb18c",
   "metadata": {},
   "source": [
    "### compute SVC models"
   ]
  },
  {
   "cell_type": "code",
   "execution_count": 14,
   "id": "810316c5-21c8-4695-8d3b-9d59aa9f0914",
   "metadata": {
    "ExecuteTime": {
     "end_time": "2023-11-05T04:29:04.132966Z",
     "start_time": "2023-11-05T04:29:03.833374Z"
    }
   },
   "outputs": [],
   "source": [
    "model_8_weeks = SVC(**params_8_weeks).fit(X_8_weeks, y_8_weeks)\n",
    "model_16_weeks = SVC(**params_16_weeks).fit(X_16_weeks, y_16_weeks)\n",
    "model_all_weeks = SVC(**params_all_weeks).fit(X_all_weeks, y_all_weeks)"
   ]
  },
  {
   "cell_type": "code",
   "execution_count": 15,
   "id": "07a4b0b0-5eca-49c4-80e6-044fb1753356",
   "metadata": {},
   "outputs": [
    {
     "name": "stdout",
     "output_type": "stream",
     "text": [
      "model_8_weeks f1 score: 1.0\n",
      "model_16_weeks f1 score: 1.0\n",
      "model_all_weeks f1 score: 1.0\n"
     ]
    }
   ],
   "source": [
    "print ('model_8_weeks', 'f1 score:', f1_score(y_8_weeks, model_8_weeks.predict(X_8_weeks)))\n",
    "print ('model_16_weeks', 'f1 score:', f1_score(y_16_weeks, model_16_weeks.predict(X_16_weeks)))\n",
    "print ('model_all_weeks', 'f1 score:', f1_score(y_all_weeks, model_all_weeks.predict(X_all_weeks)))"
   ]
  },
  {
   "cell_type": "markdown",
   "id": "0807f0a9-0cbc-43a3-aa3a-b58fc7776ddc",
   "metadata": {},
   "source": [
    "---"
   ]
  },
  {
   "cell_type": "markdown",
   "id": "818584ac-7a13-4186-942f-39730edd208a",
   "metadata": {},
   "source": [
    "### compute SHAP values (used for explainablity)"
   ]
  },
  {
   "cell_type": "code",
   "execution_count": 16,
   "id": "d72d11ab-9810-48ea-a78c-5a9009b02233",
   "metadata": {
    "ExecuteTime": {
     "end_time": "2023-11-05T04:30:47.873744Z",
     "start_time": "2023-11-05T04:30:47.824891Z"
    }
   },
   "outputs": [],
   "source": [
    "# need to change int and bool to classes int_ and bool_ to handle error 'numpy' has no attribute 'int'/'bool'/etc.\n",
    "np.bool = np.bool_\n",
    "np.int = np.int_\n",
    "np.float = np.float_"
   ]
  },
  {
   "cell_type": "code",
   "execution_count": null,
   "id": "9f7e846b-22e0-4aba-999e-becd31bdd2a5",
   "metadata": {
    "ExecuteTime": {
     "end_time": "2023-11-05T04:32:18.091061Z",
     "start_time": "2023-11-05T04:32:17.993657Z"
    }
   },
   "outputs": [
    {
     "data": {
      "application/vnd.jupyter.widget-view+json": {
       "model_id": "7aa7dec2623e4451a13db276fb5b661c",
       "version_major": 2,
       "version_minor": 0
      },
      "text/plain": [
       "  0%|          | 0/100 [00:00<?, ?it/s]"
      ]
     },
     "metadata": {},
     "output_type": "display_data"
    },
    {
     "data": {
      "application/vnd.jupyter.widget-view+json": {
       "model_id": "7253c000c9594ef9949b082fec7c0843",
       "version_major": 2,
       "version_minor": 0
      },
      "text/plain": [
       "  0%|          | 0/100 [00:00<?, ?it/s]"
      ]
     },
     "metadata": {},
     "output_type": "display_data"
    },
    {
     "name": "stderr",
     "output_type": "stream",
     "text": [
      "Using 200 background data samples could cause slower run times. Consider using shap.sample(data, K) or shap.kmeans(data, K) to summarize the background as K samples.\n"
     ]
    },
    {
     "data": {
      "application/vnd.jupyter.widget-view+json": {
       "model_id": "f8b0904c5f45468ca777db4383c7dcb9",
       "version_major": 2,
       "version_minor": 0
      },
      "text/plain": [
       "  0%|          | 0/200 [00:00<?, ?it/s]"
      ]
     },
     "metadata": {},
     "output_type": "display_data"
    }
   ],
   "source": [
    "explainer_8_weeks = shap.KernelExplainer(\n",
    "    model_8_weeks.predict, X_8_weeks, feature_names=X_8_weeks.columns.tolist()\n",
    ")\n",
    "shap_values_8_weeks = explainer_8_weeks(X_8_weeks)\n",
    "\n",
    "explainer_16_weeks = shap.KernelExplainer(\n",
    "    model_16_weeks.predict, X_16_weeks, feature_names=X_16_weeks.columns.tolist()\n",
    ")\n",
    "shap_values_16_weeks = explainer_16_weeks(X_16_weeks)\n",
    "\n",
    "explainer_all_weeks = shap.KernelExplainer(\n",
    "    model_all_weeks.predict, X_all_weeks, feature_names=X_all_weeks.columns.tolist()\n",
    ")\n",
    "shap_values_all_weeks = explainer_all_weeks(X_all_weeks)"
   ]
  },
  {
   "cell_type": "markdown",
   "id": "8eb4268f-0ca9-4411-9db8-032e94471caf",
   "metadata": {},
   "source": [
    "---"
   ]
  },
  {
   "cell_type": "markdown",
   "id": "3338c84f-0c31-45b0-97ff-5f411c64d1ad",
   "metadata": {},
   "source": [
    "## Bar and summary plots of feature importance"
   ]
  },
  {
   "cell_type": "code",
   "execution_count": null,
   "id": "812c4066-2bec-489c-858b-a84e0dab28a8",
   "metadata": {},
   "outputs": [],
   "source": [
    "# shap_values_8_weeks"
   ]
  },
  {
   "cell_type": "code",
   "execution_count": null,
   "id": "f39f8f3b-af23-458f-988d-76da3ae179f0",
   "metadata": {
    "ExecuteTime": {
     "end_time": "2023-11-05T04:32:44.151843Z",
     "start_time": "2023-11-05T04:32:42.790595Z"
    }
   },
   "outputs": [],
   "source": [
    "plot_shap_importance_with_summary(\n",
    "    shap_values_8_weeks, \n",
    "    X_8_weeks, \n",
    "    title='',\n",
    "    save_fig=True,\n",
    "    file_name='all_pathogen_svc_SHAP_feature_importance_with_summary_8_weeks.png'\n",
    ")\n",
    "\n",
    "plot_shap_importance_with_summary(\n",
    "    shap_values_16_weeks, \n",
    "    X_16_weeks, \n",
    "    title='',\n",
    "    save_fig=True,\n",
    "    file_name='all_pathogen_svc_SHAP_feature_importance_with_summary_16_weeks.png'\n",
    ")\n",
    "\n",
    "plot_shap_importance_with_summary(\n",
    "    shap_values_all_weeks, \n",
    "    X_all_weeks, \n",
    "    title='',\n",
    "    supxlabel = 'SHAP value (impact on model output)',\n",
    "    save_fig=True,\n",
    "    file_name='all_pathogen_svc_SHAP_feature_importance_with_summary_all_weeks.png'\n",
    ")"
   ]
  },
  {
   "cell_type": "markdown",
   "id": "484fe3b1-9d31-4a69-b18f-2fa6e3dcc671",
   "metadata": {},
   "source": [
    "## SHAP heatmaps"
   ]
  },
  {
   "cell_type": "code",
   "execution_count": null,
   "id": "e25edc33-f8a3-45d1-9621-254f12272d9b",
   "metadata": {
    "ExecuteTime": {
     "end_time": "2023-11-05T04:33:06.922961Z",
     "start_time": "2023-11-05T04:33:05.684418Z"
    }
   },
   "outputs": [],
   "source": [
    "plot_shap_heatmap(\n",
    "    top_shap_values(shap_values_8_weeks), \n",
    "    \"SHAP Heatmap 8 Weeks\\nC-Support Vector Classifier\", \n",
    "    x_label='Instances',\n",
    "    save_fig=True,\n",
    "    file_name='all_pathogen_svc_SHAP_Heatmap_8_Weeks.png'\n",
    ")\n",
    "\n",
    "plot_shap_heatmap(\n",
    "    top_shap_values(shap_values_16_weeks), \n",
    "    \"SHAP Heatmap 16 Weeks\\nC-Support Vector Classifier\", \n",
    "    x_label='Instances',\n",
    "    save_fig=True,\n",
    "    file_name='all_pathogen_svc_SHAP_Heatmap_16_Weeks.png'\n",
    ")\n",
    "\n",
    "plot_shap_heatmap(\n",
    "    top_shap_values(shap_values_all_weeks), \n",
    "    \"SHAP Heatmap All Weeks\\nC-Support Vector Classifier\", \n",
    "    x_label='Instances',\n",
    "    save_fig=True,\n",
    "    file_name='all_pathogen_svc_SHAP_Heatmap_All_Weeks.png'\n",
    ")"
   ]
  },
  {
   "cell_type": "markdown",
   "id": "1bdd6635-3517-43f9-b583-66162c569a1a",
   "metadata": {},
   "source": [
    "## SHAP dependence plots"
   ]
  },
  {
   "cell_type": "code",
   "execution_count": null,
   "id": "f2a4b382-9668-463c-b42e-d17992ffa0b2",
   "metadata": {
    "ExecuteTime": {
     "end_time": "2023-11-05T04:33:25.104278Z",
     "start_time": "2023-11-05T04:33:23.874501Z"
    }
   },
   "outputs": [],
   "source": [
    "plot_shap_dependence(\n",
    "    shap_values_8_weeks, \n",
    "    X_8_weeks, \n",
    "    \"SHAP Dependence Plot 8 Weeks\\nC-Support Vector Classifier\", \n",
    "    save_fig=True,\n",
    "    file_name='all_pathogen_svc_SHAP_Dependence_Plot_8_Weeks.png'\n",
    ")\n",
    "\n",
    "plot_shap_dependence(\n",
    "    shap_values_16_weeks, \n",
    "    X_16_weeks, \n",
    "    \"SHAP Dependence Plot 16 Weeks\\nC-Support Vector Classifier\", \n",
    "    save_fig=True,\n",
    "    file_name='all_pathogen_svc_SHAP_Dependence_Plot_16_Weeks.png'\n",
    ")\n",
    "\n",
    "plot_shap_dependence(\n",
    "    shap_values_all_weeks, \n",
    "    X_all_weeks, \n",
    "    \"SHAP Dependence Plot All Weeks\\nC-Support Vector Classifier\", \n",
    "    save_fig=True,\n",
    "    file_name='all_pathogen_svc_SHAP_Dependence_Plot_All_Weeks.png'\n",
    ")"
   ]
  },
  {
   "cell_type": "code",
   "execution_count": null,
   "id": "327bcc79-6de7-46e1-873c-20447dc8f142",
   "metadata": {
    "ExecuteTime": {
     "end_time": "2023-10-19T15:46:36.759178Z",
     "start_time": "2023-10-19T15:46:36.759147Z"
    }
   },
   "outputs": [],
   "source": []
  }
 ],
 "metadata": {
  "kernelspec": {
   "display_name": "Python 3 (ipykernel)",
   "language": "python",
   "name": "python3"
  },
  "language_info": {
   "codemirror_mode": {
    "name": "ipython",
    "version": 3
   },
   "file_extension": ".py",
   "mimetype": "text/x-python",
   "name": "python",
   "nbconvert_exporter": "python",
   "pygments_lexer": "ipython3",
   "version": "3.11.10"
  }
 },
 "nbformat": 4,
 "nbformat_minor": 5
}
