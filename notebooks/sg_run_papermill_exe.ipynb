{
 "cells": [
  {
   "cell_type": "markdown",
   "source": [
    "# parameterize transpose"
   ],
   "metadata": {
    "collapsed": false
   },
   "id": "fa4abbde87d6554d"
  },
  {
   "cell_type": "code",
   "execution_count": null,
   "outputs": [],
   "source": [
    "# import papermill as pm\n",
    "# import datetime\n",
    "# import os\n",
    "# \n",
    "# ts = datetime.datetime.utcnow().strftime(\"%Y-%m-%d %H-%M-%S\")\n",
    "# file_names = ['../data/Sg_8_weeks.xlsx', '../data/Sg_Sham_8_weeks.xlsx', '../data/Sg_16_weeks.xlsx', '../data/Sg_Sham_16_weeks.xlsx']\n",
    "# cohort_names = ['sg_8_weeks', 'sham_8_weeks', 'sg_16_weeks', 'sham_16_weeks']\n",
    "# \n",
    "# input_notebook = \"sg_transpose_merge_miRNA.ipynb\"\n",
    "# output_notebook = f'sg_transpose_merge_miRNA_parameterized.ipynb'\n",
    "# \n",
    "# # Use the Jupyter magic command to get the current directory\n",
    "# folder_path = %pwd\n",
    "# input_notebook_path = os.path.join(folder_path, input_notebook)\n",
    "# output_notebook_path = os.path.join(folder_path, output_notebook)\n",
    "# \n",
    "# if __name__ == '__main__':\n",
    "#     pm.execute_notebook(\n",
    "#         input_notebook_path,\n",
    "#         output_notebook_path,\n",
    "#         parameters={'file_names': file_names, 'cohort_names': cohort_names}\n",
    "#     )\n"
   ],
   "metadata": {
    "collapsed": false
   },
   "id": "67b621dcb8654434"
  },
  {
   "cell_type": "markdown",
   "source": [
    "# parameterize xgboost"
   ],
   "metadata": {
    "collapsed": false
   },
   "id": "97968c1fd1e2854e"
  },
  {
   "cell_type": "code",
   "execution_count": 1,
   "id": "8dded1fe",
   "metadata": {
    "ExecuteTime": {
     "end_time": "2023-12-19T07:37:16.460101Z",
     "start_time": "2023-12-19T07:37:00.947680Z"
    }
   },
   "outputs": [
    {
     "data": {
      "text/plain": "Executing:   0%|          | 0/40 [00:00<?, ?cell/s]",
      "application/vnd.jupyter.widget-view+json": {
       "version_major": 2,
       "version_minor": 0,
       "model_id": "8a0f20e846fa46ada694ac08a782a74d"
      }
     },
     "metadata": {},
     "output_type": "display_data"
    }
   ],
   "source": [
    "import papermill as pm\n",
    "import datetime\n",
    "import os\n",
    "\n",
    "ts = datetime.datetime.utcnow().strftime(\"%Y-%m-%d %H-%M-%S\")\n",
    "\n",
    "file_names = [\n",
    "    '../data/Streptococcus_gordonii/8 weeks S.gordonii infection.csv', \n",
    "    '../data/Streptococcus_gordonii/8 weeks SHAM infection.csv', \n",
    "    '../data/Streptococcus_gordonii/16 weeks S. gordonii infection.csv', \n",
    "    '../data/Streptococcus_gordonii/16 weeks SHAM infection.csv'\n",
    "]\n",
    "cohort_names = ['sg_8_weeks', 'sham_8_weeks', 'sg_16_weeks', 'sham_16_weeks']\n",
    "\n",
    "list(zip(file_names, cohort_names))\n",
    "\n",
    "output_feature_importance_file_names = [\n",
    "    'sg_xgboost_SHAP_feature_importance_with_summary_8_weeks.png',\n",
    "    'sg_xgboost_SHAP_feature_importance_with_summary_16_weeks.png',\n",
    "    'sg_xgboost_SHAP_feature_importance_with_summary_all_weeks.png'\n",
    "]\n",
    "output_shap_heatmap_file_names = [\n",
    "    'sg_xgboost_SHAP_Heatmap_8_Weeks.png',\n",
    "    'sg_xgboost_SHAP_Heatmap_16_Weeks.png',\n",
    "    'sg_xgboost_SHAP_Heatmap_All_Weeks.png'\n",
    "]\n",
    "\n",
    "output_xgboost_SHAP_Dependence_Plot_file_names = [\n",
    "    'sg_xgboost_SHAP_Dependence_Plot_8_Weeks.png',\n",
    "    'sg_xgboost_SHAP_Dependence_Plot_16_Weeks.png',\n",
    "    'sg_xgboost_SHAP_Dependence_Plot_All_Weeks.png'\n",
    "]\n",
    "\n",
    "\n",
    "input_notebook = \"sg_xgboost_miRNA.ipynb\"\n",
    "output_notebook = f'sg_xgboost_miRNA_parameterized.ipynb'\n",
    "\n",
    "# Use the Jupyter magic command to get the current directory\n",
    "folder_path = %pwd\n",
    "input_notebook_path = os.path.join(folder_path, input_notebook)\n",
    "output_notebook_path = os.path.join(folder_path, output_notebook)\n",
    "\n",
    "if __name__ == '__main__':\n",
    "    pm.execute_notebook(\n",
    "        input_notebook_path,\n",
    "        output_notebook_path,\n",
    "        parameters={'file_names': file_names, 'cohort_names': cohort_names, 'output_feature_importance_file_names': output_feature_importance_file_names, 'output_shap_heatmap_file_names': output_shap_heatmap_file_names, 'output_xgboost_SHAP_Dependence_Plot_file_names': output_xgboost_SHAP_Dependence_Plot_file_names }\n",
    "    )\n"
   ]
  },
  {
   "cell_type": "markdown",
   "id": "5bd1bc55",
   "metadata": {},
   "source": [
    "# parameterize randomforest"
   ]
  },
  {
   "cell_type": "code",
   "execution_count": 2,
   "id": "f12069f0",
   "metadata": {
    "ExecuteTime": {
     "end_time": "2023-12-19T07:38:40.968049Z",
     "start_time": "2023-12-19T07:38:27.801014Z"
    }
   },
   "outputs": [
    {
     "data": {
      "text/plain": "Executing:   0%|          | 0/40 [00:00<?, ?cell/s]",
      "application/vnd.jupyter.widget-view+json": {
       "version_major": 2,
       "version_minor": 0,
       "model_id": "347e1bb0b29049ce9a2d8f79d1799c62"
      }
     },
     "metadata": {},
     "output_type": "display_data"
    }
   ],
   "source": [
    "import papermill as pm\n",
    "import datetime\n",
    "import os\n",
    "\n",
    "ts = datetime.datetime.utcnow().strftime(\"%Y-%m-%d %H-%M-%S\")\n",
    "\n",
    "file_names = [\n",
    "    '../data/Streptococcus_gordonii/8 weeks S.gordonii infection.csv', \n",
    "    '../data/Streptococcus_gordonii/8 weeks SHAM infection.csv', \n",
    "    '../data/Streptococcus_gordonii/16 weeks S. gordonii infection.csv', \n",
    "    '../data/Streptococcus_gordonii/16 weeks SHAM infection.csv'\n",
    "]\n",
    "cohort_names = ['sg_8_weeks', 'sham_8_weeks', 'sg_16_weeks', 'sham_16_weeks']\n",
    "\n",
    "\n",
    "list(zip(file_names, cohort_names))\n",
    "output_feature_importance_file_names = [\n",
    "    'sg_randomforest_SHAP_feature_importance_with_summary_8_weeks.png',\n",
    "    'sg_randomforest_SHAP_feature_importance_with_summary_16_weeks.png',\n",
    "    'sg_randomforest_SHAP_feature_importance_with_summary_all_weeks.png'\n",
    "]\n",
    "output_shap_heatmap_file_names = [\n",
    "    'sg_randomforest_SHAP_Heatmap_8_Weeks.png',\n",
    "    'sg_randomforest_SHAP_Heatmap_16_Weeks.png',\n",
    "    'sg_randomforest_SHAP_Heatmap_All_Weeks.png'\n",
    "]\n",
    "\n",
    "output_randomforest_SHAP_Dependence_Plot_file_names = [\n",
    "    'sg_randomforest_SHAP_Dependence_Plot_8_Weeks.png',\n",
    "    'sg_randomforest_SHAP_Dependence_Plot_16_Weeks.png',\n",
    "    'sg_randomforest_SHAP_Dependence_Plot_All_Weeks.png'\n",
    "]\n",
    "\n",
    "\n",
    "input_notebook = \"sg_randomforest_miRNA.ipynb\"\n",
    "output_notebook = f'sg_randomforest_miRNA_parameterized.ipynb'\n",
    "\n",
    "# Use the Jupyter magic command to get the current directory\n",
    "folder_path = %pwd\n",
    "input_notebook_path = os.path.join(folder_path, input_notebook)\n",
    "output_notebook_path = os.path.join(folder_path, output_notebook)\n",
    "\n",
    "if __name__ == '__main__':\n",
    "    pm.execute_notebook(\n",
    "        input_notebook_path,\n",
    "        output_notebook_path,\n",
    "        parameters={'file_names': file_names, 'cohort_names': cohort_names, 'output_feature_importance_file_names': output_feature_importance_file_names, 'output_shap_heatmap_file_names': output_shap_heatmap_file_names, 'output_randomforest_SHAP_Dependence_Plot_file_names': output_randomforest_SHAP_Dependence_Plot_file_names }\n",
    "    )\n"
   ]
  },
  {
   "cell_type": "code",
   "execution_count": null,
   "id": "41a6b5ce",
   "metadata": {},
   "outputs": [],
   "source": []
  }
 ],
 "metadata": {
  "kernelspec": {
   "display_name": "Python 3 (ipykernel)",
   "language": "python",
   "name": "python3"
  },
  "language_info": {
   "codemirror_mode": {
    "name": "ipython",
    "version": 3
   },
   "file_extension": ".py",
   "mimetype": "text/x-python",
   "name": "python",
   "nbconvert_exporter": "python",
   "pygments_lexer": "ipython3",
   "version": "3.9.12"
  }
 },
 "nbformat": 4,
 "nbformat_minor": 5
}
