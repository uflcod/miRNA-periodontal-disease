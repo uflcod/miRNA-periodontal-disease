{
 "cells": [
  {
   "cell_type": "markdown",
   "id": "39413dbd",
   "metadata": {},
   "source": [
    "# parameterize transpose"
   ]
  },
  {
   "cell_type": "code",
   "execution_count": 3,
   "id": "19641adb",
   "metadata": {},
   "outputs": [
    {
     "data": {
      "application/vnd.jupyter.widget-view+json": {
       "model_id": "003404ffc2a249ffb0a7983873c9d8aa",
       "version_major": 2,
       "version_minor": 0
      },
      "text/plain": [
       "Executing:   0%|          | 0/13 [00:00<?, ?cell/s]"
      ]
     },
     "metadata": {},
     "output_type": "display_data"
    }
   ],
   "source": [
    "import papermill as pm\n",
    "import datetime\n",
    "import os\n",
    "\n",
    "ts = datetime.datetime.utcnow().strftime(\"%Y-%m-%d %H-%M-%S\")\n",
    "file_names = ['../data/Sg_8_weeks.xlsx', '../data/Sg_Sham_8_weeks.xlsx', '../data/Sg_16_weeks.xlsx', '../data/Sg_Sham_16_weeks.xlsx']\n",
    "cohort_names = ['sg_8_weeks', 'sham_8_weeks', 'sg_16_weeks', 'sham_16_weeks']\n",
    "\n",
    "input_notebook = \"sg_transpose_merge_miRNA.ipynb\"\n",
    "output_notebook = f'sg_transpose_merge_miRNA_parameterized.ipynb'\n",
    "\n",
    "# Use the Jupyter magic command to get the current directory\n",
    "folder_path = %pwd\n",
    "input_notebook_path = os.path.join(folder_path, input_notebook)\n",
    "output_notebook_path = os.path.join(folder_path, output_notebook)\n",
    "\n",
    "if __name__ == '__main__':\n",
    "    pm.execute_notebook(\n",
    "        input_notebook_path,\n",
    "        output_notebook_path,\n",
    "        parameters={'file_names': file_names, 'cohort_names': cohort_names}\n",
    "    )\n"
   ]
  },
  {
   "cell_type": "markdown",
   "id": "c1828a7d",
   "metadata": {},
   "source": [
    "# parameterize xgboost"
   ]
  },
  {
   "cell_type": "code",
   "execution_count": 6,
   "id": "8dded1fe",
   "metadata": {},
   "outputs": [
    {
     "data": {
      "application/vnd.jupyter.widget-view+json": {
       "model_id": "152bd38aba714395b49e36068dc9297b",
       "version_major": 2,
       "version_minor": 0
      },
      "text/plain": [
       "Executing:   0%|          | 0/40 [00:00<?, ?cell/s]"
      ]
     },
     "metadata": {},
     "output_type": "display_data"
    }
   ],
   "source": [
    "import papermill as pm\n",
    "import datetime\n",
    "import os\n",
    "\n",
    "ts = datetime.datetime.utcnow().strftime(\"%Y-%m-%d %H-%M-%S\")\n",
    "\n",
    "file_names = [\n",
    "    '../data/Streptococcus_gordonii/8 weeks S.gordonii infection.csv', \n",
    "    '../data/Streptococcus_gordonii/8 weeks SHAM infection.csv', \n",
    "    '../data/Streptococcus_gordonii/16 weeks S. gordonii infection.csv', \n",
    "    '../data/Streptococcus_gordonii/16 weeks SHAM infection.csv'\n",
    "]\n",
    "cohort_names = ['sg_8_weeks', 'sham_8_weeks', 'sg_16_weeks', 'sham_16_weeks']\n",
    "\n",
    "list(zip(file_names, cohort_names))\n",
    "\n",
    "\n",
    "input_notebook = \"sg_xgboost_miRNA.ipynb\"\n",
    "output_notebook = f'sg_xgboost_miRNA_parameterized.ipynb'\n",
    "\n",
    "# Use the Jupyter magic command to get the current directory\n",
    "folder_path = %pwd\n",
    "input_notebook_path = os.path.join(folder_path, input_notebook)\n",
    "output_notebook_path = os.path.join(folder_path, output_notebook)\n",
    "\n",
    "if __name__ == '__main__':\n",
    "    pm.execute_notebook(\n",
    "        input_notebook_path,\n",
    "        output_notebook_path,\n",
    "        parameters={'file_names': file_names, 'cohort_names': cohort_names}\n",
    "    )\n"
   ]
  },
  {
   "cell_type": "markdown",
   "id": "5bd1bc55",
   "metadata": {},
   "source": [
    "# parameterize randomforest"
   ]
  },
  {
   "cell_type": "code",
   "execution_count": 4,
   "id": "f12069f0",
   "metadata": {},
   "outputs": [
    {
     "data": {
      "application/vnd.jupyter.widget-view+json": {
       "model_id": "36e3115d686b426bb91f26289fe1044d",
       "version_major": 2,
       "version_minor": 0
      },
      "text/plain": [
       "Executing:   0%|          | 0/40 [00:00<?, ?cell/s]"
      ]
     },
     "metadata": {},
     "output_type": "display_data"
    }
   ],
   "source": [
    "import papermill as pm\n",
    "import datetime\n",
    "import os\n",
    "\n",
    "ts = datetime.datetime.utcnow().strftime(\"%Y-%m-%d %H-%M-%S\")\n",
    "\n",
    "file_names = [\n",
    "    '../data/Streptococcus_gordonii/8 weeks S.gordonii infection.csv', \n",
    "    '../data/Streptococcus_gordonii/8 weeks SHAM infection.csv', \n",
    "    '../data/Streptococcus_gordonii/16 weeks S. gordonii infection.csv', \n",
    "    '../data/Streptococcus_gordonii/16 weeks SHAM infection.csv'\n",
    "]\n",
    "cohort_names = ['sg_8_weeks', 'sham_8_weeks', 'sg_16_weeks', 'sham_16_weeks']\n",
    "\n",
    "list(zip(file_names, cohort_names))\n",
    "\n",
    "\n",
    "input_notebook = \"sg_randomforest_miRNA.ipynb\"\n",
    "output_notebook = f'sg_randomforest_miRNA_parameterized.ipynb'\n",
    "\n",
    "# Use the Jupyter magic command to get the current directory\n",
    "folder_path = %pwd\n",
    "input_notebook_path = os.path.join(folder_path, input_notebook)\n",
    "output_notebook_path = os.path.join(folder_path, output_notebook)\n",
    "\n",
    "if __name__ == '__main__':\n",
    "    pm.execute_notebook(\n",
    "        input_notebook_path,\n",
    "        output_notebook_path,\n",
    "        parameters={'file_names': file_names, 'cohort_names': cohort_names}\n",
    "    )\n"
   ]
  },
  {
   "cell_type": "code",
   "execution_count": null,
   "id": "41a6b5ce",
   "metadata": {},
   "outputs": [],
   "source": []
  }
 ],
 "metadata": {
  "kernelspec": {
   "display_name": "Python 3 (ipykernel)",
   "language": "python",
   "name": "python3"
  },
  "language_info": {
   "codemirror_mode": {
    "name": "ipython",
    "version": 3
   },
   "file_extension": ".py",
   "mimetype": "text/x-python",
   "name": "python",
   "nbconvert_exporter": "python",
   "pygments_lexer": "ipython3",
   "version": "3.9.12"
  }
 },
 "nbformat": 4,
 "nbformat_minor": 5
}
