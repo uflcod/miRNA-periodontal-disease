{
 "cells": [
  {
   "cell_type": "markdown",
   "id": "b07f9a8a-8b5d-4ef2-ab31-520e47ccd0d2",
   "metadata": {},
   "source": [
    "# Random miRNA\n",
    "Runs RandomForestClassifier on miRNA data.  \n",
    "\n",
    "Three datasets are analyzed using the RandomForest classifier:\n",
    "* Sham and infeceted mice from all weeks; i.e., 8 week and 16 week datasets are merged.\n",
    "* Sham and infected mice at 8 weeks.\n",
    "* Sham and infected mice at 16 weeks.\n",
    "\n",
    "In each dataset, there is a flag (named ‘infected’) that marks whether the mice came from the infected group or the sham group.  \n",
    "RandomForestClassifier's variable importance and SHAP values are then used to determine which miRNA variable was most important in each cohort dataset."
   ]
  },
  {
   "cell_type": "code",
   "execution_count": 41,
   "id": "f6ad5752-ea48-4c57-9d3a-620f633598a9",
   "metadata": {
    "ExecuteTime": {
     "end_time": "2023-10-19T15:46:35.324781Z",
     "start_time": "2023-10-19T15:46:35.120929Z"
    }
   },
   "outputs": [
    {
     "name": "stdout",
     "output_type": "stream",
     "text": [
      "The autoreload extension is already loaded. To reload it, use:\n",
      "  %reload_ext autoreload\n"
     ]
    }
   ],
   "source": [
    "%load_ext autoreload\n",
    "%autoreload 2"
   ]
  },
  {
   "cell_type": "code",
   "execution_count": 42,
   "id": "86299249-0dbe-46f7-b025-f5eec0a6ee33",
   "metadata": {
    "ExecuteTime": {
     "end_time": "2023-10-19T15:46:35.364945Z",
     "start_time": "2023-10-19T15:46:35.322351Z"
    }
   },
   "outputs": [],
   "source": [
    "import warnings\n",
    "warnings.filterwarnings('ignore')\n",
    "warnings.simplefilter(action='ignore', category=FutureWarning)"
   ]
  },
  {
   "cell_type": "code",
   "execution_count": 43,
   "id": "443dc93a-e54c-43df-882e-b0e40f060ae8",
   "metadata": {
    "ExecuteTime": {
     "end_time": "2023-10-19T15:46:35.405932Z",
     "start_time": "2023-10-19T15:46:35.367114Z"
    }
   },
   "outputs": [],
   "source": [
    "import pandas as pd\n",
    "import numpy as np\n",
    "import matplotlib.pyplot as plt\n",
    "import seaborn as sns\n",
    "import xgboost as xgb\n",
    "from sklearn.ensemble import RandomForestClassifier\n",
    "\n",
    "import sklearn\n",
    "from sklearn.preprocessing import StandardScaler\n",
    "from sklearn.model_selection import GridSearchCV, RepeatedKFold, cross_val_score, train_test_split\n",
    "from sklearn.metrics import accuracy_score, f1_score, recall_score, classification_report, roc_auc_score, roc_curve, mean_absolute_error\n",
    "from IPython.display import display\n",
    "import random\n",
    "import shap\n",
    "\n",
    "from util import make_study_df, \\\n",
    "    plot_shap_feature_importance, plot_xgb_feature_importance, combine_shap_heatmaps, \\\n",
    "    plot_shap_summary, plot_shap_heatmap, plot_shap_dependence, plot_shap_importance_with_summary, top_shap_values"
   ]
  },
  {
   "cell_type": "code",
   "execution_count": 44,
   "id": "9e652391-7fd1-49d8-aa13-2527859cb9e0",
   "metadata": {
    "ExecuteTime": {
     "end_time": "2023-10-19T15:46:35.603976Z",
     "start_time": "2023-10-19T15:46:35.406533Z"
    }
   },
   "outputs": [
    {
     "name": "stdout",
     "output_type": "stream",
     "text": [
      "Python 3.9.12\r\n"
     ]
    }
   ],
   "source": [
    "! python --version"
   ]
  },
  {
   "cell_type": "code",
   "execution_count": 45,
   "id": "1459ffd5-2e30-443b-b983-5b98064d2c36",
   "metadata": {
    "ExecuteTime": {
     "end_time": "2023-10-19T15:46:35.659374Z",
     "start_time": "2023-10-19T15:46:35.606935Z"
    }
   },
   "outputs": [
    {
     "name": "stdout",
     "output_type": "stream",
     "text": [
      "sklearn version 1.0.2\n",
      "shap version 0.42.1\n"
     ]
    }
   ],
   "source": [
    "print('sklearn version', sklearn.__version__)\n",
    "print('shap version', shap.__version__)"
   ]
  },
  {
   "cell_type": "markdown",
   "id": "003edfa5-0509-4fe2-ba7a-49524f3d5c64",
   "metadata": {},
   "source": [
    "## load miRNA data"
   ]
  },
  {
   "cell_type": "code",
   "execution_count": 46,
   "id": "4a0a49d0-43de-4f55-9a75-bb383b90bb4b",
   "metadata": {
    "ExecuteTime": {
     "end_time": "2023-10-19T15:46:35.911762Z",
     "start_time": "2023-10-19T15:46:35.656620Z"
    }
   },
   "outputs": [],
   "source": [
    "miRNA_df = pd.read_excel('../data/transposed_Tf_miRNA.xlsx')"
   ]
  },
  {
   "cell_type": "markdown",
   "id": "bd358419-2f7b-4b0c-928a-4dd4d05b8135",
   "metadata": {},
   "source": [
    "## create dataframes and X, y datasets"
   ]
  },
  {
   "cell_type": "code",
   "execution_count": 47,
   "id": "ade83856-151f-4b09-a416-68c6e8fac330",
   "metadata": {
    "ExecuteTime": {
     "end_time": "2023-10-19T15:46:35.965097Z",
     "start_time": "2023-10-19T15:46:35.912532Z"
    }
   },
   "outputs": [],
   "source": [
    "df_8_weeks = make_study_df(miRNA_df, cohort_str='8_weeks')\n",
    "df_16_weeks = make_study_df(miRNA_df, cohort_str='16_weeks')\n",
    "df_all_weeks = make_study_df(miRNA_df)"
   ]
  },
  {
   "cell_type": "code",
   "execution_count": 48,
   "id": "0d67c33f-4ba1-4418-906e-169ea285fd68",
   "metadata": {
    "ExecuteTime": {
     "end_time": "2023-10-19T15:46:36.008769Z",
     "start_time": "2023-10-19T15:46:35.966141Z"
    }
   },
   "outputs": [],
   "source": [
    "X_8_weeks, y_8_weeks = df_8_weeks.drop('infected', axis=1), df_8_weeks['infected']\n",
    "X_16_weeks, y_16_weeks = df_16_weeks.drop('infected', axis=1), df_16_weeks['infected']\n",
    "X_all_weeks, y_all_weeks = df_all_weeks.drop('infected', axis=1), df_all_weeks['infected']"
   ]
  },
  {
   "cell_type": "code",
   "execution_count": 49,
   "id": "0228c6ea-cbe2-4457-83b6-488da496d2cb",
   "metadata": {
    "ExecuteTime": {
     "end_time": "2023-10-19T15:46:36.050053Z",
     "start_time": "2023-10-19T15:46:36.009247Z"
    }
   },
   "outputs": [],
   "source": [
    "# y_8_weeks"
   ]
  },
  {
   "cell_type": "markdown",
   "id": "3aacfcbd-6878-4b2a-a046-c7f1095eb18c",
   "metadata": {},
   "source": [
    "### compute XGBoost models"
   ]
  },
  {
   "cell_type": "code",
   "execution_count": 50,
   "id": "403cb56e-9c87-41da-b207-cea933ba8115",
   "metadata": {
    "ExecuteTime": {
     "end_time": "2023-10-19T15:46:36.090362Z",
     "start_time": "2023-10-19T15:46:36.050534Z"
    }
   },
   "outputs": [],
   "source": [
    "params = {\n",
    "    \"random_state\": 42,\n",
    "    # \"objective\":\"binary:logistic\",\n",
    "    # \"colsample_bytree\": 0.3, \n",
    "    # \"learning_rate\": 0.1,\n",
    "}   "
   ]
  },
  {
   "cell_type": "code",
   "execution_count": 51,
   "id": "810316c5-21c8-4695-8d3b-9d59aa9f0914",
   "metadata": {
    "ExecuteTime": {
     "end_time": "2023-10-19T15:46:36.339560Z",
     "start_time": "2023-10-19T15:46:36.090825Z"
    }
   },
   "outputs": [],
   "source": [
    "model_8_weeks = RandomForestClassifier(**params).fit(X_8_weeks, y_8_weeks)\n",
    "model_16_weeks = RandomForestClassifier(**params).fit(X_16_weeks, y_16_weeks)\n",
    "model_all_weeks = RandomForestClassifier(**params).fit(X_all_weeks, y_all_weeks)"
   ]
  },
  {
   "cell_type": "markdown",
   "id": "818584ac-7a13-4186-942f-39730edd208a",
   "metadata": {},
   "source": [
    "### compute SHAP values (used for explainablity)"
   ]
  },
  {
   "cell_type": "code",
   "execution_count": 52,
   "id": "d72d11ab-9810-48ea-a78c-5a9009b02233",
   "metadata": {
    "ExecuteTime": {
     "end_time": "2023-10-19T15:46:36.380939Z",
     "start_time": "2023-10-19T15:46:36.339108Z"
    }
   },
   "outputs": [],
   "source": [
    "# need to change int and bool to classes int_ and bool_ to handle error 'numpy' has no attribute 'int'/'bool'/etc.\n",
    "np.bool = np.bool_\n",
    "np.int = np.int_\n",
    "np.float = np.float_"
   ]
  },
  {
   "cell_type": "code",
   "execution_count": 53,
   "id": "9f7e846b-22e0-4aba-999e-becd31bdd2a5",
   "metadata": {
    "ExecuteTime": {
     "end_time": "2023-10-19T15:46:36.495501Z",
     "start_time": "2023-10-19T15:46:36.382149Z"
    }
   },
   "outputs": [],
   "source": [
    "explainer_8_weeks = shap.TreeExplainer(model_8_weeks, X_8_weeks, feature_names=X_8_weeks.columns.tolist())\n",
    "shap_values_8_weeks = explainer_8_weeks(X_8_weeks)\n",
    "\n",
    "explainer_16_weeks = shap.TreeExplainer(model_16_weeks, X_16_weeks, feature_names=X_16_weeks.columns.tolist())\n",
    "shap_values_16_weeks = explainer_16_weeks(X_16_weeks)\n",
    "\n",
    "explainer_all_weeks = shap.TreeExplainer(model_all_weeks, X_all_weeks, feature_names=X_all_weeks.columns.tolist())\n",
    "shap_values_all_weeks = explainer_all_weeks(X_all_weeks)"
   ]
  },
  {
   "cell_type": "code",
   "execution_count": 55,
   "outputs": [
    {
     "name": "stdout",
     "output_type": "stream",
     "text": [
      "['miR-145', 'miR-582-3p', 'miR-292-3p', 'miR-207', 'miR-652', 'miR-695', 'miR-693-3p', 'miR-96', 'miR-1965', 'miR-m107-1-3p', 'miR-675-5p', 'miR-151-5p', 'miR-322', 'miR-489', 'miR-384-5p', 'miR-761', 'miR-509-3p', 'miR-M1-7-5p', 'miR-878-3p', 'miR-125a-5p', 'miR-129-3p', 'miR-193', 'miR-126-5p', 'miR-701', 'miR-199a-3p', 'miR-1905', 'miR-27b', 'miR-19b', 'miR-683', 'miR-100', 'miR-582-5p', 'miR-704', 'miR-1906', 'miR-295', 'miR-666-3p', 'miR-125b-5p', 'miR-139-5p', 'miR-1907', 'miR-297b-3p', 'miR-188-3p', 'miR-181b+mmu-miR-181d', 'miR-1933-5p', 'miR-680', 'miR-1195', 'miR-142-5p', 'miR-493', 'miR-759', 'miR-687', 'miR-m108-2-3p', 'miR-124', 'miR-448', 'miR-675-3p', 'miR-184', 'miR-763', 'miR-M1-3', 'miR-155', 'miR-376a', 'miR-466d-3p', 'miR-1191', 'miR-423-3p', 'miR-1274a', 'miR-546', 'miR-340-3p', 'miR-1929', 'miR-301a', 'miR-210', 'miR-465a-5p', 'miR-m01-1', 'miR-1902', 'miR-375', 'miR-720', 'miR-1898', 'miR-191', 'miR-450a-3p', 'miR-677', 'miR-450a-5p', 'miR-292-5p', 'miR-342-3p', 'miR-337-3p', 'miR-669h-5p', 'miR-1956', 'miR-509-5p', 'miR-1187', 'miR-1954', 'miR-1946a', 'miR-672', 'miR-543', 'miR-2134', 'miR-144', 'miR-455', 'miR-199a-5p', 'miR-466j', 'miR-1188', 'miR-290-5p', 'miR-744', 'miR-501-5p', 'miR-547', 'miR-708', 'miR-673-3p', 'miR-302b', 'miR-383', 'miR-M55-1', 'miR-1963', 'miR-433', 'miR-1186', 'miR-2145', 'miR-327', 'miR-147', 'miR-296-5p', 'miR-M1-5', 'miR-m22-1', 'miR-24', 'miR-26b', 'miR-28', 'miR-2861', 'miR-1981', 'miR-135b', 'miR-342-5p', 'miR-692', 'miR-1904', 'miR-133b', 'miR-200b', 'miR-380-5p', 'miR-669m', 'miR-1', 'miR-453', 'miR-1946b', 'miR-432', 'miR-320', 'miR-10b', 'miR-m108-2-5p.1', 'miR-361', 'miR-467e', 'miR-M1-8', 'miR-590-3p', 'miR-15b', 'miR-1951', 'miR-1936', 'miR-670', 'miR-148b', 'miR-324-5p', 'miR-330', 'miR-1945', 'miR-335-5p', 'miR-466h', 'miR-297b-5p', 'miR-1839-5p', 'miR-19a', 'miR-504', 'miR-678', 'miR-220', 'miR-1968', 'miR-351', 'miR-542-3p', 'miR-130a', 'miR-431', 'miR-122', 'miR-142-3p', 'miR-29b', 'miR-654-5p', 'miR-324-3p', 'miR-540-3p', 'miR-339-5p', 'miR-741', 'miR-18b', 'miR-674', 'miR-345-5p', 'miR-671-5p', 'miR-542-5p', 'miR-491', 'miR-298', 'miR-363', 'miR-2132', 'miR-92b', 'miR-302c', 'miR-34c', 'miR-703', 'miR-362-5p', 'miR-590-5p', 'miR-693-5p', 'miR-204', 'miR-767', 'miR-466i', 'miR-M1-4', 'miR-125a-3p', 'miR-743b-5p', 'miR-488', 'miR-1900', 'miR-434-3p', 'miR-m01-4', 'miR-200a', 'miR-1953', 'miR-2137', 'miR-331-5p', 'miR-323-5p', 'miR-1943', 'miR-362-3p', 'miR-1969', 'miR-224', 'miR-379', 'miR-470', 'miR-92a', 'miR-883a-5p', 'miR-212', 'miR-M1-2', 'miR-676', 'miR-689', 'miR-706', 'miR-592', 'miR-669e', 'miR-377', 'miR-338-5p', 'miR-449c', 'miR-183', 'miR-1970', 'miR-2140', 'miR-464', 'miR-1896', 'miR-668', 'miR-1901', 'miR-1931', 'miR-495', 'miR-1959', 'miR-M95-1-3p', 'miR-m01-3', 'miR-497', 'miR-134', 'miR-196a', 'miR-25', 'miR-192', 'miR-541', 'miR-297a+mmu-miR-466f+mmu-miR-669b', 'miR-466a-5p+mmu-miR-466e-5p', 'miR-653', 'miR-1196', 'miR-1938', 'miR-181a', 'miR-1930', 'miR-499', 'miR-463', 'miR-34b-5p', 'miR-764-3p', 'miR-15a', 'miR-468', 'miR-7b', 'miR-697', 'miR-883a-3p', 'miR-764-5p', 'miR-718', 'miR-33', 'miR-875-3p', 'miR-467f', 'miR-101b', 'miR-702', 'miR-1194', 'miR-466k', 'miR-329', 'miR-465c-5p', 'miR-505', 'miR-202-3p', 'miR-101a', 'miR-217', 'miR-3473', 'miR-1199', 'miR-466d-5p', 'let-7b', 'miR-200c', 'miR-382', 'miR-500', 'miR-719', 'miR-m59-1', 'miR-105', 'miR-154', 'miR-1952', 'miR-1948', 'miR-291b-3p', 'miR-684', 'miR-667', 'let-7a', 'miR-665', 'miR-196b', 'miR-1932', 'miR-2139', 'miR-762', 'miR-484', 'miR-671-3p', 'miR-345-3p', 'miR-1947', 'miR-669o', 'miR-1971', 'miR-107', 'miR-2146', 'miR-3471', 'miR-1941-5p', 'miR-877', 'miR-664', 'miR-1958', 'miR-483', 'miR-875-5p', 'miR-M95-1-5p', 'miR-1895', 'let-7i', 'miR-7a', 'miR-539', 'miR-1893', 'miR-3474', 'let-7g', 'miR-2135', 'miR-376c', 'miR-1957', 'miR-1934', 'miR-1224', 'miR-M23-1-3p', 'miR-615-5p', 'miR-449a', 'miR-1193', 'miR-m21-1', 'miR-876-5p', 'miR-30a', 'miR-302a', 'miR-206', 'miR-30c', 'miR-1198', 'miR-669g', 'miR-152', 'miR-666-5p', 'miR-1186b', 'miR-344', 'miR-880', 'miR-323-3p', 'miR-879', 'miR-682', 'miR-143', 'miR-374', 'miR-1939', 'miR-m108-1', 'miR-193b', 'miR-141', 'miR-103', 'miR-467b', 'miR-m59-2', 'miR-98', 'miR-296-3p', 'miR-3472', 'miR-691', 'miR-291a-3p', 'miR-343', 'miR-326', 'miR-770-5p', 'miR-32', 'miR-1937c', 'miR-1955', 'miR-711', 'miR-219', 'miR-883b-5p', 'miR-710', 'miR-758', 'miR-1903', 'miR-3099', 'miR-2183', 'miR-1933-3p', 'miR-10a', 'miR-301b', 'miR-218', 'miR-194', 'miR-742', 'miR-128', 'miR-409-5p', 'miR-599', 'miR-29c', 'miR-367', '', 'miR-130b', 'miR-544', 'miR-1839-3p', 'miR-411', 'miR-1306', 'miR-679', 'miR-1935', 'miR-1960', 'miR-450b-3p', 'miR-1927', 'miR-201', 'miR-350', 'miR-467a', 'miR-690', 'miR-139-3p', 'miR-743b-3p', 'miR-341', 'miR-423-5p', 'miR-451', 'miR-574-5p', 'miR-140', 'miR-568', 'miR-1197', 'miR-654-3p', 'miR-365', 'miR-1192', 'miR-384-3p', 'miR-540-5p', 'miR-M1-6', 'miR-878-5p', 'miR-450b-5p', 'miR-551b', 'miR-1892', 'miR-669f', 'miR-409-3p', 'miR-882', 'miR-471', 'miR-1944', 'miR-223', 'miR-181c', 'miR-3470a+mmu-miR-3470b', 'miR-714', 'miR-187', 'miR-434-5p', 'miR-871', 'miR-23b', 'miR-m108-2-5p.2', 'miR-1964', 'miR-293', 'miR-694', 'miR-532-3p', 'miR-222', 'miR-2133', 'miR-421', 'miR-126-3p', 'miR-1967', 'miR-M87-1', 'miR-346', 'miR-190b', 'miR-1961', 'let-7f', 'miR-709', 'miR-9', 'miR-148a', 'miR-2138', 'miR-34b-3p', 'miR-669a', 'miR-205', 'miR-466c-5p', 'miR-429', 'miR-496', 'miR-340-5p', 'miR-876-3p', 'miR-378', 'miR-503', 'miR-297c', 'miR-466a-3p+mmu-miR-466b-3-3p', 'miR-802', 'miR-30d', 'miR-22', 'miR-195', 'miR-23a', 'miR-132', 'miR-465a-3p', 'miR-1949', 'miR-3475', 'miR-532-5p', 'miR-380-3p', 'miR-129-5p', 'miR-338-3p', 'miR-1928', 'miR-216a', 'miR-2182', 'miR-299', 'miR-717', 'miR-182', 'miR-467h+mmu-miR-669d+mmu-miR-669l', 'miR-211', 'miR-135a', 'miR-2136', 'miR-190', 'miR-216b', 'miR-325', 'miR-208b', 'miR-146a', 'miR-221', 'miR-16', 'miR-18a', 'miR-1894-3p', 'miR-369-5p', 'miR-467g', 'miR-203', 'miR-188-5p', 'miR-715', 'miR-208a', 'miR-302d', 'miR-494', 'miR-452', 'miR-770-3p', 'miR-688', 'miR-1982', 'miR-804', 'miR-487b', 'miR-486', 'miR-136', 'miR-m88-1', 'let-7d', 'miR-185', 'miR-1942', 'miR-574-3p', 'miR-29a', 'miR-874', 'miR-150', 'miR-1950', 'miR-467c', 'miR-335-3p', 'miR-31', 'miR-881', 'miR-883b-3p', 'miR-743a', 'miR-M1-9', 'miR-186', 'miR-27a', 'miR-300', 'miR-1962', 'miR-93', 'miR-153', 'miR-376b', 'miR-328', 'miR-669i', 'miR-30e', 'miR-485', 'miR-1190', 'miR-125b-3p', 'miR-21', 'miR-1894-5p', 'miR-138', 'miR-449b', 'miR-34a', 'miR-30b', 'miR-337-5p', 'miR-3072', 'miR-M23-2', 'miR-686', 'miR-713', 'miR-m01-2', 'miR-673-5p', 'miR-291a-5p', 'let-7c', 'miR-m107-1-5p', 'miR-106a+mmu-miR-17', 'miR-1983', 'miR-712', 'miR-149', 'miR-1937a+mmu-miR-1937b', 'miR-26a', 'miR-412', 'miR-291b-5p', 'miR-151-3p', 'miR-290-3p', 'miR-700', 'miR-M44-1', 'miR-501-3p', 'miR-467d', 'miR-469', 'miR-466f-5p', 'miR-M1-1', 'miR-202-5p', 'miR-1899', 'miR-20a+mmu-miR-20b', 'miR-490', 'miR-425', 'miR-331-3p', 'miR-1966', 'miR-872', 'miR-146b', 'miR-465b-5p', 'miR-99b', 'miR-M1-7-3p', 'miR-760', 'miR-696', 'miR-410', 'miR-369-3p', 'miR-669j', 'miR-133a', 'miR-615-3p', 'miR-1940', 'miR-1941-3p', 'miR-707', 'miR-466l', 'let-7e', 'miR-1897-3p', 'miR-2141', 'miR-681', 'miR-127', 'miR-106b', 'miR-339-3p', 'miR-214', 'miR-381', 'miR-294', 'miR-511', 'miR-466g', 'miR-698', 'miR-370', 'miR-99a', 'miR-873', 'miR-M23-1-5p', 'miR-137']\n"
     ]
    }
   ],
   "source": [
    "print(X_8_weeks.columns.tolist())"
   ],
   "metadata": {
    "collapsed": false,
    "ExecuteTime": {
     "end_time": "2023-10-19T15:49:53.723266Z",
     "start_time": "2023-10-19T15:49:53.645923Z"
    }
   },
   "id": "b72dba2c120bc51b"
  },
  {
   "cell_type": "markdown",
   "id": "8eb4268f-0ca9-4411-9db8-032e94471caf",
   "metadata": {},
   "source": [
    "---"
   ]
  },
  {
   "cell_type": "markdown",
   "id": "3338c84f-0c31-45b0-97ff-5f411c64d1ad",
   "metadata": {},
   "source": [
    "## Bar and summary plots of feature importance"
   ]
  },
  {
   "cell_type": "code",
   "execution_count": 54,
   "id": "f39f8f3b-af23-458f-988d-76da3ae179f0",
   "metadata": {
    "ExecuteTime": {
     "end_time": "2023-10-19T15:46:36.754677Z",
     "start_time": "2023-10-19T15:46:36.498710Z"
    }
   },
   "outputs": [
    {
     "ename": "TypeError",
     "evalue": "only integer scalar arrays can be converted to a scalar index",
     "output_type": "error",
     "traceback": [
      "\u001B[0;31m---------------------------------------------------------------------------\u001B[0m",
      "\u001B[0;31mTypeError\u001B[0m                                 Traceback (most recent call last)",
      "Input \u001B[0;32mIn [54]\u001B[0m, in \u001B[0;36m<cell line: 1>\u001B[0;34m()\u001B[0m\n\u001B[0;32m----> 1\u001B[0m \u001B[43mplot_shap_importance_with_summary\u001B[49m\u001B[43m(\u001B[49m\n\u001B[1;32m      2\u001B[0m \u001B[43m    \u001B[49m\u001B[43mshap_values_8_weeks\u001B[49m\u001B[43m,\u001B[49m\u001B[43m \u001B[49m\n\u001B[1;32m      3\u001B[0m \u001B[43m    \u001B[49m\u001B[43mX_8_weeks\u001B[49m\u001B[43m,\u001B[49m\u001B[43m \u001B[49m\n\u001B[1;32m      4\u001B[0m \u001B[43m    \u001B[49m\u001B[43mtitle\u001B[49m\u001B[38;5;241;43m=\u001B[39;49m\u001B[38;5;124;43m'\u001B[39;49m\u001B[38;5;124;43m'\u001B[39;49m\u001B[43m,\u001B[49m\n\u001B[1;32m      5\u001B[0m \u001B[43m    \u001B[49m\u001B[43msave_fig\u001B[49m\u001B[38;5;241;43m=\u001B[39;49m\u001B[38;5;28;43;01mTrue\u001B[39;49;00m\u001B[43m,\u001B[49m\n\u001B[1;32m      6\u001B[0m \u001B[43m    \u001B[49m\u001B[43mfile_name\u001B[49m\u001B[38;5;241;43m=\u001B[39;49m\u001B[38;5;124;43m'\u001B[39;49m\u001B[38;5;124;43mtf_randomforest_SHAP_feature_importance_with_summary_8_weeks.png\u001B[39;49m\u001B[38;5;124;43m'\u001B[39;49m\n\u001B[1;32m      7\u001B[0m \u001B[43m)\u001B[49m\n\u001B[1;32m      9\u001B[0m plot_shap_importance_with_summary(\n\u001B[1;32m     10\u001B[0m     shap_values_16_weeks, \n\u001B[1;32m     11\u001B[0m     X_16_weeks, \n\u001B[0;32m   (...)\u001B[0m\n\u001B[1;32m     14\u001B[0m     file_name\u001B[38;5;241m=\u001B[39m\u001B[38;5;124m'\u001B[39m\u001B[38;5;124mtf_randomforest_SHAP_feature_importance_with_summary_16_weeks.png\u001B[39m\u001B[38;5;124m'\u001B[39m\n\u001B[1;32m     15\u001B[0m )\n\u001B[1;32m     17\u001B[0m plot_shap_importance_with_summary(\n\u001B[1;32m     18\u001B[0m     shap_values_all_weeks, \n\u001B[1;32m     19\u001B[0m     X_all_weeks, \n\u001B[0;32m   (...)\u001B[0m\n\u001B[1;32m     23\u001B[0m     file_name\u001B[38;5;241m=\u001B[39m\u001B[38;5;124m'\u001B[39m\u001B[38;5;124mtf_randomforest_SHAP_feature_importance_with_summary_all_weeks.png\u001B[39m\u001B[38;5;124m'\u001B[39m\n\u001B[1;32m     24\u001B[0m )\n",
      "File \u001B[0;32m~/IdeaProjects/miRNA-periodontal-disease/notebooks/util.py:284\u001B[0m, in \u001B[0;36mplot_shap_importance_with_summary\u001B[0;34m(shap_values, X_data, title, supxlabel, num_features, size_width, size_height, font_size, font_name, font_weight, y_label, cohorts, legend_loc, bbox_values, save_fig, dpi, figures_dir, file_name)\u001B[0m\n\u001B[1;32m    281\u001B[0m fig \u001B[38;5;241m=\u001B[39m plt\u001B[38;5;241m.\u001B[39mfigure()\n\u001B[1;32m    283\u001B[0m ax1 \u001B[38;5;241m=\u001B[39m plt\u001B[38;5;241m.\u001B[39msubplot(\u001B[38;5;241m121\u001B[39m)\n\u001B[0;32m--> 284\u001B[0m \u001B[43mplot_shap_summary\u001B[49m\u001B[43m(\u001B[49m\n\u001B[1;32m    285\u001B[0m \u001B[43m    \u001B[49m\u001B[43mshap_values\u001B[49m\u001B[43m,\u001B[49m\n\u001B[1;32m    286\u001B[0m \u001B[43m    \u001B[49m\u001B[43mX_data\u001B[49m\u001B[43m,\u001B[49m\n\u001B[1;32m    287\u001B[0m \u001B[43m    \u001B[49m\u001B[43mtitle\u001B[49m\u001B[38;5;241;43m=\u001B[39;49m\u001B[38;5;124;43m'\u001B[39;49m\u001B[38;5;124;43m'\u001B[39;49m\u001B[43m,\u001B[49m\n\u001B[1;32m    288\u001B[0m \u001B[43m    \u001B[49m\u001B[43mplot_type\u001B[49m\u001B[38;5;241;43m=\u001B[39;49m\u001B[38;5;124;43m'\u001B[39;49m\u001B[38;5;124;43mbar\u001B[39;49m\u001B[38;5;124;43m'\u001B[39;49m\u001B[43m,\u001B[49m\n\u001B[1;32m    289\u001B[0m \u001B[43m    \u001B[49m\u001B[43mnum_features\u001B[49m\u001B[38;5;241;43m=\u001B[39;49m\u001B[43mnum_features\u001B[49m\u001B[43m,\u001B[49m\n\u001B[1;32m    290\u001B[0m \u001B[43m    \u001B[49m\u001B[43msize_width\u001B[49m\u001B[38;5;241;43m=\u001B[39;49m\u001B[43msize_width\u001B[49m\u001B[43m,\u001B[49m\n\u001B[1;32m    291\u001B[0m \u001B[43m    \u001B[49m\u001B[43msize_height\u001B[49m\u001B[38;5;241;43m=\u001B[39;49m\u001B[43msize_height\u001B[49m\u001B[43m,\u001B[49m\n\u001B[1;32m    292\u001B[0m \u001B[43m    \u001B[49m\u001B[43mfont_size\u001B[49m\u001B[38;5;241;43m=\u001B[39;49m\u001B[43mfont_size\u001B[49m\u001B[43m,\u001B[49m\n\u001B[1;32m    293\u001B[0m \u001B[43m    \u001B[49m\u001B[43mfont_name\u001B[49m\u001B[38;5;241;43m=\u001B[39;49m\u001B[43mfont_name\u001B[49m\u001B[43m,\u001B[49m\n\u001B[1;32m    294\u001B[0m \u001B[43m    \u001B[49m\u001B[43mfont_weight\u001B[49m\u001B[38;5;241;43m=\u001B[39;49m\u001B[43mfont_weight\u001B[49m\u001B[43m,\u001B[49m\n\u001B[1;32m    295\u001B[0m \u001B[43m    \u001B[49m\u001B[43my_label\u001B[49m\u001B[38;5;241;43m=\u001B[39;49m\u001B[43my_label\u001B[49m\u001B[43m,\u001B[49m\n\u001B[1;32m    296\u001B[0m \u001B[43m    \u001B[49m\u001B[43msave_fig\u001B[49m\u001B[38;5;241;43m=\u001B[39;49m\u001B[38;5;28;43;01mFalse\u001B[39;49;00m\u001B[43m,\u001B[49m\n\u001B[1;32m    297\u001B[0m \u001B[43m    \u001B[49m\u001B[43mdpi\u001B[49m\u001B[38;5;241;43m=\u001B[39;49m\u001B[43mdpi\u001B[49m\u001B[43m,\u001B[49m\n\u001B[1;32m    298\u001B[0m \u001B[43m    \u001B[49m\u001B[43mfigures_dir\u001B[49m\u001B[38;5;241;43m=\u001B[39;49m\u001B[43mfigures_dir\u001B[49m\u001B[43m,\u001B[49m\n\u001B[1;32m    299\u001B[0m \u001B[43m    \u001B[49m\u001B[43mshow_plot\u001B[49m\u001B[38;5;241;43m=\u001B[39;49m\u001B[38;5;28;43;01mFalse\u001B[39;49;00m\n\u001B[1;32m    300\u001B[0m \u001B[43m\u001B[49m\u001B[43m)\u001B[49m\n\u001B[1;32m    301\u001B[0m ax1\u001B[38;5;241m.\u001B[39mset_xlabel(\u001B[38;5;124m'\u001B[39m\u001B[38;5;124m'\u001B[39m)\n\u001B[1;32m    303\u001B[0m ax2 \u001B[38;5;241m=\u001B[39m plt\u001B[38;5;241m.\u001B[39msubplot(\u001B[38;5;241m122\u001B[39m)\n",
      "File \u001B[0;32m~/IdeaProjects/miRNA-periodontal-disease/notebooks/util.py:153\u001B[0m, in \u001B[0;36mplot_shap_summary\u001B[0;34m(shap_values, X_data, title, plot_type, num_features, size_width, size_height, font_size, font_name, font_weight, y_label, save_fig, dpi, figures_dir, file_name, show_plot)\u001B[0m\n\u001B[1;32m    133\u001B[0m \u001B[38;5;28;01mdef\u001B[39;00m \u001B[38;5;21mplot_shap_summary\u001B[39m(\n\u001B[1;32m    134\u001B[0m     shap_values:Any,\n\u001B[1;32m    135\u001B[0m     X_data:pd\u001B[38;5;241m.\u001B[39mDataFrame,\n\u001B[0;32m   (...)\u001B[0m\n\u001B[1;32m    149\u001B[0m     show_plot:\u001B[38;5;28mbool\u001B[39m\u001B[38;5;241m=\u001B[39m\u001B[38;5;28;01mTrue\u001B[39;00m\n\u001B[1;32m    150\u001B[0m ):\n\u001B[1;32m    151\u001B[0m     fontparams \u001B[38;5;241m=\u001B[39m {\u001B[38;5;124m'\u001B[39m\u001B[38;5;124mfontname\u001B[39m\u001B[38;5;124m'\u001B[39m:font_name, \u001B[38;5;124m'\u001B[39m\u001B[38;5;124mfontsize\u001B[39m\u001B[38;5;124m'\u001B[39m: font_size, \u001B[38;5;124m'\u001B[39m\u001B[38;5;124mweight\u001B[39m\u001B[38;5;124m'\u001B[39m: font_weight}\n\u001B[0;32m--> 153\u001B[0m     \u001B[43mshap\u001B[49m\u001B[38;5;241;43m.\u001B[39;49m\u001B[43msummary_plot\u001B[49m\u001B[43m(\u001B[49m\u001B[43mshap_values\u001B[49m\u001B[43m,\u001B[49m\u001B[43m \u001B[49m\u001B[43mX_data\u001B[49m\u001B[43m,\u001B[49m\u001B[43m \u001B[49m\u001B[43mmax_display\u001B[49m\u001B[38;5;241;43m=\u001B[39;49m\u001B[43mnum_features\u001B[49m\u001B[43m,\u001B[49m\u001B[43m \u001B[49m\u001B[43mshow\u001B[49m\u001B[38;5;241;43m=\u001B[39;49m\u001B[38;5;28;43;01mFalse\u001B[39;49;00m\u001B[43m,\u001B[49m\u001B[43m \u001B[49m\u001B[43mplot_type\u001B[49m\u001B[38;5;241;43m=\u001B[39;49m\u001B[43mplot_type\u001B[49m\u001B[43m)\u001B[49m\n\u001B[1;32m    154\u001B[0m     ax \u001B[38;5;241m=\u001B[39m plt\u001B[38;5;241m.\u001B[39mgca()\n\u001B[1;32m    155\u001B[0m     \u001B[38;5;66;03m# ax.set_yticklabels(ax.get_yticklabels(), fontsize=font_size)\u001B[39;00m\n",
      "File \u001B[0;32m~/opt/anaconda3/lib/python3.9/site-packages/shap/plots/_beeswarm.py:590\u001B[0m, in \u001B[0;36msummary_legacy\u001B[0;34m(shap_values, features, feature_names, max_display, plot_type, color, axis_color, title, alpha, show, sort, color_bar, plot_size, layered_violin_max_num_bins, class_names, class_inds, color_bar_label, cmap, auto_size_plot, use_log_scale)\u001B[0m\n\u001B[1;32m    586\u001B[0m proj_shap_values \u001B[38;5;241m=\u001B[39m shap_values[:, sort_inds[\u001B[38;5;241m0\u001B[39m], sort_inds]\n\u001B[1;32m    587\u001B[0m proj_shap_values[:, \u001B[38;5;241m1\u001B[39m:] \u001B[38;5;241m*\u001B[39m\u001B[38;5;241m=\u001B[39m \u001B[38;5;241m2\u001B[39m  \u001B[38;5;66;03m# because off diag effects are split in half\u001B[39;00m\n\u001B[1;32m    588\u001B[0m summary_legacy(\n\u001B[1;32m    589\u001B[0m     proj_shap_values, features[:, sort_inds] \u001B[38;5;28;01mif\u001B[39;00m features \u001B[38;5;129;01mis\u001B[39;00m \u001B[38;5;129;01mnot\u001B[39;00m \u001B[38;5;28;01mNone\u001B[39;00m \u001B[38;5;28;01melse\u001B[39;00m \u001B[38;5;28;01mNone\u001B[39;00m,\n\u001B[0;32m--> 590\u001B[0m     feature_names\u001B[38;5;241m=\u001B[39m\u001B[43mfeature_names\u001B[49m\u001B[43m[\u001B[49m\u001B[43msort_inds\u001B[49m\u001B[43m]\u001B[49m,\n\u001B[1;32m    591\u001B[0m     sort\u001B[38;5;241m=\u001B[39m\u001B[38;5;28;01mFalse\u001B[39;00m, show\u001B[38;5;241m=\u001B[39m\u001B[38;5;28;01mFalse\u001B[39;00m, color_bar\u001B[38;5;241m=\u001B[39m\u001B[38;5;28;01mFalse\u001B[39;00m,\n\u001B[1;32m    592\u001B[0m     plot_size\u001B[38;5;241m=\u001B[39m\u001B[38;5;28;01mNone\u001B[39;00m,\n\u001B[1;32m    593\u001B[0m     max_display\u001B[38;5;241m=\u001B[39mmax_display\n\u001B[1;32m    594\u001B[0m )\n\u001B[1;32m    595\u001B[0m pl\u001B[38;5;241m.\u001B[39mxlim((slow, shigh))\n\u001B[1;32m    596\u001B[0m pl\u001B[38;5;241m.\u001B[39mxlabel(\u001B[38;5;124m\"\u001B[39m\u001B[38;5;124m\"\u001B[39m)\n",
      "\u001B[0;31mTypeError\u001B[0m: only integer scalar arrays can be converted to a scalar index"
     ]
    },
    {
     "data": {
      "text/plain": "<Figure size 432x288 with 1 Axes>",
      "image/png": "[encoded data removed]"
     },
     "metadata": {},
     "output_type": "display_data"
    },
    {
     "data": {
      "text/plain": "<Figure size 612x360 with 1 Axes>",
      "image/png": "[encoded data removed]"
     },
     "metadata": {},
     "output_type": "display_data"
    }
   ],
   "source": [
    "plot_shap_importance_with_summary(\n",
    "    shap_values_8_weeks, \n",
    "    X_8_weeks, \n",
    "    title='',\n",
    "    save_fig=True,\n",
    "    file_name='tf_randomforest_SHAP_feature_importance_with_summary_8_weeks.png'\n",
    ")\n",
    "\n",
    "plot_shap_importance_with_summary(\n",
    "    shap_values_16_weeks, \n",
    "    X_16_weeks, \n",
    "    title='',\n",
    "    save_fig=True,\n",
    "    file_name='tf_randomforest_SHAP_feature_importance_with_summary_16_weeks.png'\n",
    ")\n",
    "\n",
    "plot_shap_importance_with_summary(\n",
    "    shap_values_all_weeks, \n",
    "    X_all_weeks, \n",
    "    title='',\n",
    "    supxlabel = 'SHAP value (impact on model output)',\n",
    "    save_fig=True,\n",
    "    file_name='tf_randomforest_SHAP_feature_importance_with_summary_all_weeks.png'\n",
    ")"
   ]
  },
  {
   "cell_type": "markdown",
   "id": "484fe3b1-9d31-4a69-b18f-2fa6e3dcc671",
   "metadata": {},
   "source": [
    "## SHAP heatmaps"
   ]
  },
  {
   "cell_type": "code",
   "execution_count": null,
   "id": "e25edc33-f8a3-45d1-9621-254f12272d9b",
   "metadata": {
    "ExecuteTime": {
     "end_time": "2023-10-19T15:46:36.758881Z",
     "start_time": "2023-10-19T15:46:36.756455Z"
    }
   },
   "outputs": [],
   "source": [
    "plot_shap_heatmap(\n",
    "    top_shap_values(shap_values_8_weeks), \n",
    "    \"SHAP Heatmap 8 Weeks\", \n",
    "    x_label='Instances',\n",
    "    save_fig=True,\n",
    "    file_name='tf_xgboost_SHAP_Heatmap_8_Weeks.png'\n",
    ")\n",
    "\n",
    "plot_shap_heatmap(\n",
    "    top_shap_values(shap_values_16_weeks), \n",
    "    \"SHAP Heatmap 16 Weeks\", \n",
    "    x_label='Instances',\n",
    "    save_fig=True,\n",
    "    file_name='tf_xgboost_SHAP_Heatmap_16_Weeks.png'\n",
    ")\n",
    "\n",
    "plot_shap_heatmap(\n",
    "    top_shap_values(shap_values_all_weeks), \n",
    "    \"SHAP Heatmap All Weeks\", \n",
    "    x_label='Instances',\n",
    "    save_fig=True,\n",
    "    file_name='tf_xgboost_SHAP_Heatmap_All_Weeks.png'\n",
    ")"
   ]
  },
  {
   "cell_type": "markdown",
   "id": "1bdd6635-3517-43f9-b583-66162c569a1a",
   "metadata": {},
   "source": [
    "## SHAP dependence plots"
   ]
  },
  {
   "cell_type": "code",
   "execution_count": null,
   "id": "f2a4b382-9668-463c-b42e-d17992ffa0b2",
   "metadata": {
    "ExecuteTime": {
     "start_time": "2023-10-19T15:46:36.757760Z"
    }
   },
   "outputs": [],
   "source": [
    "plot_shap_dependence(\n",
    "    shap_values_8_weeks, \n",
    "    X_8_weeks, \n",
    "    \"SHAP Dependence Plot 8 Weeks\", \n",
    "    save_fig=True,\n",
    "    file_name='tf_xgboost_SHAP_Dependence_Plot_8_Weeks.png'\n",
    ")\n",
    "\n",
    "plot_shap_dependence(\n",
    "    shap_values_16_weeks, \n",
    "    X_16_weeks, \n",
    "    \"SHAP Dependence Plot 16 Weeks\", \n",
    "    save_fig=True,\n",
    "    file_name='tf_xgboost_SHAP_Dependence_Plot_16_Weeks.png'\n",
    ")\n",
    "\n",
    "plot_shap_dependence(\n",
    "    shap_values_all_weeks, \n",
    "    X_all_weeks, \n",
    "    \"SHAP Dependence Plot All Weeks\", \n",
    "    save_fig=True,\n",
    "    file_name='tf_xgboost_SHAP_Dependence_Plot_All_Weeks.png'\n",
    ")"
   ]
  },
  {
   "cell_type": "code",
   "execution_count": null,
   "id": "327bcc79-6de7-46e1-873c-20447dc8f142",
   "metadata": {
    "ExecuteTime": {
     "end_time": "2023-10-19T15:46:36.759178Z",
     "start_time": "2023-10-19T15:46:36.759147Z"
    }
   },
   "outputs": [],
   "source": []
  }
 ],
 "metadata": {
  "kernelspec": {
   "display_name": "Python 3 (ipykernel)",
   "language": "python",
   "name": "python3"
  },
  "language_info": {
   "codemirror_mode": {
    "name": "ipython",
    "version": 3
   },
   "file_extension": ".py",
   "mimetype": "text/x-python",
   "name": "python",
   "nbconvert_exporter": "python",
   "pygments_lexer": "ipython3",
   "version": "3.11.6"
  }
 },
 "nbformat": 4,
 "nbformat_minor": 5
}
